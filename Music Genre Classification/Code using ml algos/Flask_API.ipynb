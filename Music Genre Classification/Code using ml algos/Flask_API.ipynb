{
 "cells": [
  {
   "cell_type": "code",
   "execution_count": 1,
   "metadata": {},
   "outputs": [
    {
     "name": "stderr",
     "output_type": "stream",
     "text": [
      "C:\\Users\\Aditya Aggarwal\\Anaconda3\\lib\\site-packages\\sklearn\\cross_validation.py:44: DeprecationWarning: This module was deprecated in version 0.18 in favor of the model_selection module into which all the refactored classes and functions are moved. Also note that the interface of the new CV iterators are different from that of this module. This module will be removed in 0.20.\n",
      "  \"This module will be removed in 0.20.\", DeprecationWarning)\n"
     ]
    }
   ],
   "source": [
    "#flask dependencies\n",
    "from flask import Flask , request\n",
    "from werkzeug import secure_filename\n",
    "\n",
    "\n",
    "import pandas as pd\n",
    "import os\n",
    "import json\n",
    "from scipy.io import wavfile\n",
    "import collections\n",
    "from python_speech_features import mfcc\n",
    "import csv\n",
    "import wave\n",
    "from scipy.io.wavfile import read\n",
    "from sklearn import preprocessing as pp\n",
    "import numpy as np\n",
    "from sklearn.preprocessing import StandardScaler\n",
    "import librosa\n",
    "import librosa.display\n",
    "import sklearn\n",
    "import sklearn.ensemble\n",
    "from sklearn.metrics import accuracy_score\n",
    "from sklearn.model_selection import train_test_split\n",
    "from sklearn import decomposition \n",
    "from sklearn import cross_validation\n",
    "import pickle\n",
    "import wave\n",
    "from scipy.io.wavfile import read"
   ]
  },
  {
   "cell_type": "code",
   "execution_count": 2,
   "metadata": {},
   "outputs": [],
   "source": [
    "UPLOAD_FILE = '/Users/Aditya Aggarwal/Desktop/audio/'\n",
    "UPLOAD_FOLDER = '/audio/'\n",
    "ALLOWED_EXTENSIONS = set(['mp3' , 'wav'])\n",
    "\n",
    "app = Flask(__name__)\n",
    "\n",
    "app.config['UPLOAD_FILE'] = UPLOAD_FILE\n",
    "\n",
    "def allowed_file(filename):\n",
    "    return '.' in filename and \\\n",
    "           filename.rsplit('.', 1)[1] in ALLOWED_EXTENSIONS\n",
    "\n",
    "@app.route('/find' , methods = ['GET' , 'POST'])\n",
    "def find():\n",
    "    if request.method == 'GET':\n",
    "        return \"HELLO\"\n",
    "\n",
    "@app.route('/' , methods = ['POST'])\n",
    "def index():\n",
    "    if request.method == 'POST':\n",
    "        file = request.files['file']\n",
    "        if file and allowed_file(file.filename):\n",
    "            filename = secure_filename(file.filename)\n",
    "            print(filename)\n",
    "            file.save(os.path.join(app.config['UPLOAD_FILE'], filename))\n",
    "            \n",
    "            filename = '/'+filename\n",
    "            with open(r'C:\\Users\\Aditya Aggarwal\\Desktop\\audio'+filename , 'rb') as file:\n",
    "                (sr , data) = read(file)\n",
    "    \n",
    "            d = data[: , 0]\n",
    "            \n",
    "            #mel-spectogram feature extraction.\n",
    "            d_melspec = librosa.feature.melspectrogram(S = np.abs(librosa.stft(d.reshape(-1)))**2) \n",
    "            \n",
    "            #mel-frequency cepstral coefficient feature extraction.-----> (13 features)\n",
    "            d_mfcc = np.mean(librosa.feature.mfcc(np.array(d_melspec).flatten() , 44100 , n_mfcc = 13) , axis = 1)\n",
    "            \n",
    "            #extraction of delta and delta order 2. -----> (26 features)\n",
    "            d_delta = librosa.feature.delta(d_mfcc)\n",
    "            d_delta2 = librosa.feature.delta(d_mfcc , order = 2)\n",
    "            \n",
    "            #adding tempo feature to training data.------> (1 feature)\n",
    "            d_oenv = librosa.onset.onset_strength(y = data[:,0], sr= 44100, hop_length = 512)\n",
    "            d_tempo = librosa.beat.tempo(onset_envelope = d_oenv ,sr=44100,hop_length=512)[0]\n",
    "            #in total 40 features by reducing (663552 features from raw music.)\n",
    "            \n",
    "            #adding all features to our dataset for prediction..\n",
    "            dataset = [0]*40\n",
    "            for j in range(13):\n",
    "                dataset[j] = d_mfcc[j]\n",
    "            for j in range(13):\n",
    "                dataset[j+13] = d_delta[j]\n",
    "            for j in range(13):\n",
    "                dataset[j+26] = d_delta2[j]\n",
    "            dataset[39] = d_tempo\n",
    "\n",
    "            dataset = np.array(dataset)\n",
    "        \n",
    "        \n",
    "            clf = pickle.load(open('random_forest.pkl' , 'rb'))\n",
    "            ans = clf.predict(dataset.reshape(-1))\n",
    "            music_class = str(ans[0]) \n",
    "            \n",
    "            if(music_class == '1'):\n",
    "                return \"blues\"\n",
    "            elif(music_class == '2'):\n",
    "                return \"classical\"\n",
    "            elif(music_class == '3'):\n",
    "                return \"country\"\n",
    "            elif(music_class == '4'):\n",
    "                return \"disco\"\n",
    "            elif(music_class == '5'):\n",
    "                return \"hiphop\"\n",
    "            elif(music_class == '6'):\n",
    "                return \"jazz\"\n",
    "            elif(music_class == '7'):\n",
    "                return \"metal\"\n",
    "            elif(music_class == '8'):\n",
    "                return \"pop\"\n",
    "            else:\n",
    "                return \"error in predicting music!!!\"\n",
    "    \n",
    "    \n",
    "   "
   ]
  },
  {
   "cell_type": "code",
   "execution_count": null,
   "metadata": {},
   "outputs": [
    {
     "name": "stderr",
     "output_type": "stream",
     "text": [
      " * Running on http://192.168.43.48:5110/ (Press CTRL+C to quit)\n",
      "192.168.43.1 - - [30/Nov/2017 10:12:34] \"GET /find HTTP/1.1\" 200 -\n",
      "192.168.43.1 - - [30/Nov/2017 10:12:35] \"GET /favicon.ico HTTP/1.1\" 404 -\n"
     ]
    },
    {
     "name": "stdout",
     "output_type": "stream",
     "text": [
      "sample.wav\n"
     ]
    },
    {
     "name": "stderr",
     "output_type": "stream",
     "text": [
      "C:\\Users\\Aditya Aggarwal\\Anaconda3\\lib\\site-packages\\sklearn\\utils\\validation.py:395: DeprecationWarning: Passing 1d arrays as data is deprecated in 0.17 and will raise ValueError in 0.19. Reshape your data either using X.reshape(-1, 1) if your data has a single feature or X.reshape(1, -1) if it contains a single sample.\n",
      "  DeprecationWarning)\n",
      "192.168.43.1 - - [30/Nov/2017 10:13:02] \"POST / HTTP/1.1\" 200 -\n"
     ]
    },
    {
     "name": "stdout",
     "output_type": "stream",
     "text": [
      "sample.wav\n"
     ]
    },
    {
     "name": "stderr",
     "output_type": "stream",
     "text": [
      "C:\\Users\\Aditya Aggarwal\\Anaconda3\\lib\\site-packages\\sklearn\\utils\\validation.py:395: DeprecationWarning: Passing 1d arrays as data is deprecated in 0.17 and will raise ValueError in 0.19. Reshape your data either using X.reshape(-1, 1) if your data has a single feature or X.reshape(1, -1) if it contains a single sample.\n",
      "  DeprecationWarning)\n",
      "192.168.43.1 - - [30/Nov/2017 10:29:11] \"POST / HTTP/1.1\" 200 -\n"
     ]
    },
    {
     "name": "stdout",
     "output_type": "stream",
     "text": [
      "sample.wav\n"
     ]
    },
    {
     "name": "stderr",
     "output_type": "stream",
     "text": [
      "C:\\Users\\Aditya Aggarwal\\Anaconda3\\lib\\site-packages\\sklearn\\utils\\validation.py:395: DeprecationWarning: Passing 1d arrays as data is deprecated in 0.17 and will raise ValueError in 0.19. Reshape your data either using X.reshape(-1, 1) if your data has a single feature or X.reshape(1, -1) if it contains a single sample.\n",
      "  DeprecationWarning)\n",
      "192.168.43.1 - - [30/Nov/2017 10:29:36] \"POST / HTTP/1.1\" 200 -\n"
     ]
    }
   ],
   "source": [
    "if __name__ == '__main__':\n",
    "    app.run(debug = True ,host=\"192.168.43.48\", port = 5110,use_reloader=False)\n"
   ]
  },
  {
   "cell_type": "code",
   "execution_count": 1,
   "metadata": {},
   "outputs": [
    {
     "name": "stdout",
     "output_type": "stream",
     "text": [
      "(663552,)\n",
      "44100\n"
     ]
    }
   ],
   "source": [
    "import wave\n",
    "from scipy.io.wavfile import read\n",
    "\n",
    "with open(r'C:\\Users\\Aditya Aggarwal\\Desktop\\audio\\blues.00002.wav' , 'rb') as file:\n",
    "    (sr , data) = read(file)\n",
    "    \n",
    "d = data[: , 0]\n",
    "print(d.shape)\n",
    "print(sr)\n",
    "\n",
    "    \n"
   ]
  },
  {
   "cell_type": "code",
   "execution_count": 72,
   "metadata": {},
   "outputs": [
    {
     "name": "stdout",
     "output_type": "stream",
     "text": [
      "(663552,)\n",
      "[ 0.          0.          0.         ...,  0.74742883  2.79828721\n",
      "  2.56754588]\n",
      "(1297,)\n",
      "156.605113636\n",
      "()\n",
      "(40,)\n",
      "[  2.19181928e+03   4.01879443e+01  -1.19526435e+01   8.82405000e+00\n",
      "  -3.17195697e+00   5.75077720e+00  -3.85544662e-02   4.78466130e+00\n",
      "  -7.55549553e-01   6.08807672e-01  -1.10400092e+00   1.95875777e+00\n",
      "   2.06984057e+00  -3.64802098e+02  -3.64983502e+02  -3.29116387e+02\n",
      "  -2.56396761e+02  -1.47595905e+02  -2.16117733e+00   3.76925704e-01\n",
      "  -5.37637248e-01   5.47397557e-02  -2.39980330e-01   1.21497472e-01\n",
      "   6.18799124e-02   3.69057083e-01  -9.11408122e+01  -8.20823028e+01\n",
      "  -6.51584327e+01  -4.27720239e+01  -1.86003644e+01   1.77268754e+01\n",
      "   4.23058342e+01   5.51720380e+01   5.77664526e+01   5.17696425e+01\n",
      "   3.97057785e+01   2.45417830e+01   9.97193032e+00   1.56605114e+02]\n"
     ]
    }
   ],
   "source": [
    "d_melspec = librosa.feature.melspectrogram(S = np.abs(librosa.stft(d.reshape(-1)))**2) \n",
    "#print(d_melspec)\n",
    "#print(d_melspec.shape)\n",
    "#print(librosa.feature.mfcc(np.array(d_melspec).flatten() , 44100 , n_mfcc = 13).shape)\n",
    "d_mfcc = np.mean(librosa.feature.mfcc(np.array(d_melspec).flatten() , 44100 , n_mfcc = 13) , axis = 1)\n",
    "#print(d_mfcc)\n",
    "#print(d_mfcc.shape)\n",
    "d_delta = librosa.feature.delta(d_mfcc)\n",
    "#print('delta' ,d_delta)\n",
    "#print(d_delta.shape)\n",
    "d_delta2 = librosa.feature.delta(d_mfcc , order = 2)\n",
    "#print(d_delta2)\n",
    "#print(d_delta2.shape)\n",
    "print(data[: , 0].shape)\n",
    "d_oenv = librosa.onset.onset_strength(y = data[:,0], sr= 44100, hop_length = 512)\n",
    "print(d_oenv)\n",
    "print(d_oenv.shape)\n",
    "d_tempo = librosa.beat.tempo(onset_envelope = d_oenv ,sr=44100,hop_length=512)[0]\n",
    "print(d_tempo)\n",
    "print(d_tempo.shape)\n",
    "\n",
    "\n",
    "\n",
    "d_scale = pp.scale(d_delta2)\n",
    "\n",
    "\n",
    "\n",
    "dataset = [0]*40\n",
    "for j in range(13):\n",
    "    dataset[j] = d_mfcc[j]\n",
    "for j in range(13):\n",
    "    dataset[j+13] = d_delta[j]\n",
    "for j in range(13):\n",
    "    dataset[j+26] = d_delta2[j]\n",
    "dataset[39] = d_tempo\n",
    "\n",
    "dataset = np.array(dataset)\n",
    "\n",
    "print(dataset.shape)\n",
    "print(dataset)\n",
    "\n",
    "\n",
    "\n"
   ]
  },
  {
   "cell_type": "code",
   "execution_count": 69,
   "metadata": {},
   "outputs": [
    {
     "name": "stdout",
     "output_type": "stream",
     "text": [
      "StandardScaler(copy=True, with_mean=True, with_std=True)\n",
      "0.0\n",
      "(40,)\n",
      "[  5.95418735e+00   4.65099395e-02  -9.66510969e-02  -3.96050777e-02\n",
      "  -7.25421976e-02  -4.80432817e-02  -6.39388970e-02  -5.06959207e-02\n",
      "  -6.59075315e-02  -6.21614518e-02  -6.68642652e-02  -5.84549294e-02\n",
      "  -5.81499323e-02  -1.06546054e+00  -1.06595861e+00  -9.67479222e-01\n",
      "  -7.67814862e-01  -4.69083221e-01  -6.97669266e-02  -6.27981240e-02\n",
      "  -6.53092154e-02  -6.36827415e-02  -6.44919466e-02  -6.34994466e-02\n",
      "  -6.36631369e-02  -6.28197287e-02  -3.14075963e-01  -2.89204252e-01\n",
      "  -2.42736829e-01  -1.81271057e-01  -1.14903569e-01  -1.51608249e-02\n",
      "   5.23249739e-02   8.76513703e-02   9.47747860e-02   7.83095026e-02\n",
      "   4.51860696e-02   3.55068708e-03  -3.64533730e-02   3.66153490e-01]\n",
      "(40,)\n",
      "[  5.95418735e+00   4.65099395e-02  -9.66510969e-02  -3.96050777e-02\n",
      "  -7.25421976e-02  -4.80432817e-02  -6.39388970e-02  -5.06959207e-02\n",
      "  -6.59075315e-02  -6.21614518e-02  -6.68642652e-02  -5.84549294e-02\n",
      "  -5.81499323e-02  -1.06546054e+00  -1.06595861e+00  -9.67479222e-01\n",
      "  -7.67814862e-01  -4.69083221e-01  -6.97669266e-02  -6.27981240e-02\n",
      "  -6.53092154e-02  -6.36827415e-02  -6.44919466e-02  -6.34994466e-02\n",
      "  -6.36631369e-02  -6.28197287e-02  -3.14075963e-01  -2.89204252e-01\n",
      "  -2.42736829e-01  -1.81271057e-01  -1.14903569e-01  -1.51608249e-02\n",
      "   5.23249739e-02   8.76513703e-02   9.47747860e-02   7.83095026e-02\n",
      "   4.51860696e-02   3.55068708e-03  -3.64533730e-02   3.66153490e-01]\n"
     ]
    },
    {
     "name": "stderr",
     "output_type": "stream",
     "text": [
      "C:\\Users\\Aditya Aggarwal\\Anaconda3\\lib\\site-packages\\sklearn\\preprocessing\\data.py:586: DeprecationWarning: Passing 1d arrays as data is deprecated in 0.17 and will raise ValueError in 0.19. Reshape your data either using X.reshape(-1, 1) if your data has a single feature or X.reshape(1, -1) if it contains a single sample.\n",
      "  warnings.warn(DEPRECATION_MSG_1D, DeprecationWarning)\n",
      "C:\\Users\\Aditya Aggarwal\\Anaconda3\\lib\\site-packages\\sklearn\\preprocessing\\data.py:649: DeprecationWarning: Passing 1d arrays as data is deprecated in 0.17 and will raise ValueError in 0.19. Reshape your data either using X.reshape(-1, 1) if your data has a single feature or X.reshape(1, -1) if it contains a single sample.\n",
      "  warnings.warn(DEPRECATION_MSG_1D, DeprecationWarning)\n",
      "C:\\Users\\Aditya Aggarwal\\Anaconda3\\lib\\site-packages\\sklearn\\utils\\validation.py:395: DeprecationWarning: Passing 1d arrays as data is deprecated in 0.17 and will raise ValueError in 0.19. Reshape your data either using X.reshape(-1, 1) if your data has a single feature or X.reshape(1, -1) if it contains a single sample.\n",
      "  DeprecationWarning)\n",
      "C:\\Users\\Aditya Aggarwal\\Anaconda3\\lib\\site-packages\\sklearn\\decomposition\\pca.py:398: RuntimeWarning: invalid value encountered in true_divide\n",
      "  explained_variance_ratio_ = explained_variance_ / total_var\n"
     ]
    },
    {
     "data": {
      "text/plain": [
       "' 0.38224914 -0.26196281 -0.3867268  -0.25350892 -0.65855687  0.4218158\\n  0.14770814  1.2952787  -0.84314272 -1.10821414 -1.42712105  0.32944424\\n  1.39275287 -0.38973252 -0.3845909  -0.38034262 -0.36914506 -0.35965402\\n  0.35819195  0.06993006 -0.05204642  0.47025967  0.48130802  1.02992736\\n  1.19481729  1.96136891 -0.38727615 -0.38632223 -0.3837401  -0.37488452\\n -0.34465476  0.4281412   0.39794386  0.389768    0.38602376  0.38218642\\n  0.38173458  0.38595275  0.43537675  1.95255113'"
      ]
     },
     "execution_count": 69,
     "metadata": {},
     "output_type": "execute_result"
    }
   ],
   "source": [
    "sc = StandardScaler()\n",
    "dataset1 = sc.fit_transform(dataset.transpose())\n",
    "#dataset1 = dataset\n",
    "print(sc)\n",
    "print(dataset1.mean())\n",
    "print(dataset1.shape)\n",
    "print(dataset1)\n",
    "pca = decomposition.PCA()\n",
    "pca.fit_transform(dataset1)\n",
    "print(dataset1.shape)\n",
    "print(dataset1)\n",
    "\n",
    "\n",
    "''' 0.38224914 -0.26196281 -0.3867268  -0.25350892 -0.65855687  0.4218158\n",
    "  0.14770814  1.2952787  -0.84314272 -1.10821414 -1.42712105  0.32944424\n",
    "  1.39275287 -0.38973252 -0.3845909  -0.38034262 -0.36914506 -0.35965402\n",
    "  0.35819195  0.06993006 -0.05204642  0.47025967  0.48130802  1.02992736\n",
    "  1.19481729  1.96136891 -0.38727615 -0.38632223 -0.3837401  -0.37488452\n",
    " -0.34465476  0.4281412   0.39794386  0.389768    0.38602376  0.38218642\n",
    "  0.38173458  0.38595275  0.43537675  1.95255113'''\n",
    "\n",
    "\n"
   ]
  },
  {
   "cell_type": "code",
   "execution_count": 70,
   "metadata": {},
   "outputs": [
    {
     "name": "stdout",
     "output_type": "stream",
     "text": [
      "[ 0.]\n",
      "0.0\n",
      "(1, 1)\n",
      "[[ 0.]]\n"
     ]
    },
    {
     "name": "stderr",
     "output_type": "stream",
     "text": [
      "C:\\Users\\Aditya Aggarwal\\Anaconda3\\lib\\site-packages\\ipykernel_launcher.py:20: RuntimeWarning: invalid value encountered in double_scalars\n",
      "C:\\Users\\Aditya Aggarwal\\Anaconda3\\lib\\site-packages\\sklearn\\utils\\validation.py:395: DeprecationWarning: Passing 1d arrays as data is deprecated in 0.17 and will raise ValueError in 0.19. Reshape your data either using X.reshape(-1, 1) if your data has a single feature or X.reshape(1, -1) if it contains a single sample.\n",
      "  DeprecationWarning)\n",
      "C:\\Users\\Aditya Aggarwal\\Anaconda3\\lib\\site-packages\\sklearn\\decomposition\\pca.py:398: RuntimeWarning: invalid value encountered in true_divide\n",
      "  explained_variance_ratio_ = explained_variance_ / total_var\n"
     ]
    }
   ],
   "source": [
    "\n",
    "v = pca.explained_variance_\n",
    "'''v = np.array([  2.04807938e+01 ,  5.25007010e+00 ,  3.66909133e+00  , 2.97473056e+00,\n",
    "   2.16798598e+00 ,  1.33072274e+00  , 1.13282549e+00  , 9.08586232e-01,\n",
    "   6.40566732e-01  , 5.22376300e-01 ,  3.60451932e-01 ,  2.76813458e-01,\n",
    "   1.66724876e-01   ,1.18260456e-01 ,  4.11905892e-29 ,  1.61564975e-29,\n",
    "   1.00640245e-29  , 7.29965419e-30 ,  5.78673713e-30 ,  3.98600590e-30,\n",
    "   3.73802248e-30   ,2.94182267e-30 ,  2.62012193e-30 ,  2.34566610e-30,\n",
    "   2.21117664e-30   ,1.87545533e-30 ,  1.72145710e-30 ,  1.54636617e-30,\n",
    "   1.47028346e-30   ,1.24663708e-30 ,  1.02877988e-30 ,  8.00190949e-31,\n",
    "   2.68244311e-31   ,1.92241514e-31 ,  1.92241514e-31 ,  1.92241514e-31,\n",
    "   1.03422220e-31   ,8.31082587e-32  , 5.45000817e-32  , 4.95681470e-32])'''\n",
    "print(v)\n",
    "total = v.sum()\n",
    "print(total)\n",
    "sum = 0\n",
    "i = 0\n",
    "while i < v.shape[0] :\n",
    "    sum += v[i]\n",
    "    if (sum/total > 0.05) :\n",
    "        break\n",
    "    i +=1\n",
    "pca.n_components = i\n",
    "dataset1 = pca.fit_transform(dataset1)\n",
    "print(dataset1.shape)\n",
    "print(dataset1)"
   ]
  },
  {
   "cell_type": "code",
   "execution_count": 89,
   "metadata": {},
   "outputs": [
    {
     "name": "stdout",
     "output_type": "stream",
     "text": [
      "(40,)\n",
      "[8]\n"
     ]
    },
    {
     "name": "stderr",
     "output_type": "stream",
     "text": [
      "C:\\Users\\Aditya Aggarwal\\Anaconda3\\lib\\site-packages\\sklearn\\utils\\validation.py:395: DeprecationWarning: Passing 1d arrays as data is deprecated in 0.17 and will raise ValueError in 0.19. Reshape your data either using X.reshape(-1, 1) if your data has a single feature or X.reshape(1, -1) if it contains a single sample.\n",
      "  DeprecationWarning)\n"
     ]
    },
    {
     "data": {
      "text/plain": [
       "GradientBoostingClassifier(criterion='friedman_mse', init=None,\n",
       "              learning_rate=0.1, loss='deviance', max_depth=3,\n",
       "              max_features=None, max_leaf_nodes=None,\n",
       "              min_impurity_split=1e-07, min_samples_leaf=1,\n",
       "              min_samples_split=2, min_weight_fraction_leaf=0.0,\n",
       "              n_estimators=100, presort='auto', random_state=None,\n",
       "              subsample=1.0, verbose=0, warm_start=False)"
      ]
     },
     "execution_count": 89,
     "metadata": {},
     "output_type": "execute_result"
    }
   ],
   "source": [
    "print(dataset.transpose().shape)\n",
    "clf = pickle.load(open('GradientBoostingClassifier.pkl' , 'rb'))\n",
    "ans = clf.predict(dataset.transpose())\n",
    "print(ans)\n",
    "clf"
   ]
  },
  {
   "cell_type": "code",
   "execution_count": 91,
   "metadata": {},
   "outputs": [
    {
     "name": "stdout",
     "output_type": "stream",
     "text": [
      "(40,)\n",
      "[7]\n"
     ]
    },
    {
     "name": "stderr",
     "output_type": "stream",
     "text": [
      "C:\\Users\\Aditya Aggarwal\\Anaconda3\\lib\\site-packages\\sklearn\\utils\\validation.py:395: DeprecationWarning: Passing 1d arrays as data is deprecated in 0.17 and will raise ValueError in 0.19. Reshape your data either using X.reshape(-1, 1) if your data has a single feature or X.reshape(1, -1) if it contains a single sample.\n",
      "  DeprecationWarning)\n"
     ]
    },
    {
     "data": {
      "text/plain": [
       "DecisionTreeClassifier(class_weight=None, criterion='gini', max_depth=None,\n",
       "            max_features=None, max_leaf_nodes=None,\n",
       "            min_impurity_split=1e-07, min_samples_leaf=1,\n",
       "            min_samples_split=2, min_weight_fraction_leaf=0.0,\n",
       "            presort=False, random_state=None, splitter='best')"
      ]
     },
     "execution_count": 91,
     "metadata": {},
     "output_type": "execute_result"
    }
   ],
   "source": [
    "print(dataset.reshape(-1).shape)\n",
    "clf = pickle.load(open('DecisionTreeClassifier.pkl' , 'rb'))\n",
    "ans = clf.predict(dataset.reshape(-1))\n",
    "print(ans)\n",
    "clf"
   ]
  },
  {
   "cell_type": "code",
   "execution_count": 92,
   "metadata": {},
   "outputs": [
    {
     "name": "stdout",
     "output_type": "stream",
     "text": [
      "(40,)\n",
      "[2]\n"
     ]
    },
    {
     "name": "stderr",
     "output_type": "stream",
     "text": [
      "C:\\Users\\Aditya Aggarwal\\Anaconda3\\lib\\site-packages\\sklearn\\utils\\validation.py:395: DeprecationWarning: Passing 1d arrays as data is deprecated in 0.17 and will raise ValueError in 0.19. Reshape your data either using X.reshape(-1, 1) if your data has a single feature or X.reshape(1, -1) if it contains a single sample.\n",
      "  DeprecationWarning)\n"
     ]
    },
    {
     "data": {
      "text/plain": [
       "SVC(C=1.0, cache_size=200, class_weight=None, coef0=0.0,\n",
       "  decision_function_shape=None, degree=3, gamma='auto', kernel='rbf',\n",
       "  max_iter=-1, probability=False, random_state=None, shrinking=True,\n",
       "  tol=0.001, verbose=False)"
      ]
     },
     "execution_count": 92,
     "metadata": {},
     "output_type": "execute_result"
    }
   ],
   "source": [
    "print(dataset.reshape(-1).shape)\n",
    "clf = pickle.load(open('SVM.pkl' , 'rb'))\n",
    "ans = clf.predict(dataset.reshape(-1))\n",
    "print(ans)\n",
    "clf"
   ]
  },
  {
   "cell_type": "code",
   "execution_count": 93,
   "metadata": {},
   "outputs": [
    {
     "name": "stdout",
     "output_type": "stream",
     "text": [
      "(40,)\n",
      "[7]\n"
     ]
    },
    {
     "name": "stderr",
     "output_type": "stream",
     "text": [
      "C:\\Users\\Aditya Aggarwal\\Anaconda3\\lib\\site-packages\\sklearn\\utils\\validation.py:395: DeprecationWarning: Passing 1d arrays as data is deprecated in 0.17 and will raise ValueError in 0.19. Reshape your data either using X.reshape(-1, 1) if your data has a single feature or X.reshape(1, -1) if it contains a single sample.\n",
      "  DeprecationWarning)\n"
     ]
    },
    {
     "data": {
      "text/plain": [
       "KNeighborsClassifier(algorithm='auto', leaf_size=30, metric='minkowski',\n",
       "           metric_params=None, n_jobs=1, n_neighbors=5, p=2,\n",
       "           weights='uniform')"
      ]
     },
     "execution_count": 93,
     "metadata": {},
     "output_type": "execute_result"
    }
   ],
   "source": [
    "print(dataset.reshape(-1).shape)\n",
    "clf = pickle.load(open('KNeighbors.pkl' , 'rb'))\n",
    "ans = clf.predict(dataset.reshape(-1))\n",
    "print(ans)\n",
    "clf"
   ]
  },
  {
   "cell_type": "code",
   "execution_count": 94,
   "metadata": {},
   "outputs": [
    {
     "name": "stdout",
     "output_type": "stream",
     "text": [
      "(40,)\n",
      "[1]\n"
     ]
    },
    {
     "name": "stderr",
     "output_type": "stream",
     "text": [
      "C:\\Users\\Aditya Aggarwal\\Anaconda3\\lib\\site-packages\\sklearn\\utils\\validation.py:395: DeprecationWarning: Passing 1d arrays as data is deprecated in 0.17 and will raise ValueError in 0.19. Reshape your data either using X.reshape(-1, 1) if your data has a single feature or X.reshape(1, -1) if it contains a single sample.\n",
      "  DeprecationWarning)\n"
     ]
    },
    {
     "data": {
      "text/plain": [
       "RandomForestClassifier(bootstrap=True, class_weight=None, criterion='entropy',\n",
       "            max_depth=None, max_features='auto', max_leaf_nodes=None,\n",
       "            min_impurity_split=1e-07, min_samples_leaf=1,\n",
       "            min_samples_split=8, min_weight_fraction_leaf=0.0,\n",
       "            n_estimators=10, n_jobs=1, oob_score=False, random_state=None,\n",
       "            verbose=0, warm_start=False)"
      ]
     },
     "execution_count": 94,
     "metadata": {},
     "output_type": "execute_result"
    }
   ],
   "source": [
    "print(dataset.reshape(-1).shape)\n",
    "clf = pickle.load(open('random_forest.pkl' , 'rb'))\n",
    "ans = clf.predict(dataset.reshape(-1))\n",
    "print(ans)\n",
    "clf"
   ]
  },
  {
   "cell_type": "code",
   "execution_count": 105,
   "metadata": {},
   "outputs": [
    {
     "name": "stdout",
     "output_type": "stream",
     "text": [
      "1\n"
     ]
    }
   ],
   "source": [
    "a = [1]\n",
    "a = str(a[0])\n",
    "print(a)\n",
    "\n"
   ]
  }
 ],
 "metadata": {
  "kernelspec": {
   "display_name": "Python 3",
   "language": "python",
   "name": "python3"
  },
  "language_info": {
   "codemirror_mode": {
    "name": "ipython",
    "version": 3
   },
   "file_extension": ".py",
   "mimetype": "text/x-python",
   "name": "python",
   "nbconvert_exporter": "python",
   "pygments_lexer": "ipython3",
   "version": "3.6.1"
  }
 },
 "nbformat": 4,
 "nbformat_minor": 2
}
