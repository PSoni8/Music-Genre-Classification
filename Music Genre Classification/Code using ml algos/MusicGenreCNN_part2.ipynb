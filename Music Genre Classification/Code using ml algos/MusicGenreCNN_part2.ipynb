{
 "cells": [
  {
   "cell_type": "code",
   "execution_count": 1,
   "metadata": {},
   "outputs": [],
   "source": [
    "import json\n",
    "import numpy as np\n",
    "from sklearn.model_selection import train_test_split\n",
    "import tensorflow.keras as keras\n",
    "\n",
    "import matplotlib.pyplot as plt\n",
    "import random\n",
    "\n",
    "import librosa\n",
    "import math"
   ]
  },
  {
   "cell_type": "code",
   "execution_count": 2,
   "metadata": {},
   "outputs": [],
   "source": [
    "# path to json\n",
    "DATA_PATH = \"data_11.json\""
   ]
  },
  {
   "cell_type": "code",
   "execution_count": 3,
   "metadata": {},
   "outputs": [],
   "source": [
    "def load_data(data_path):\n",
    "\n",
    "    with open(data_path, \"r\") as f:\n",
    "        data = json.load(f)\n",
    "\n",
    "    # convert lists to numpy arrays\n",
    "    X = np.array(data[\"mfcc\"])\n",
    "    y = np.array(data[\"labels\"])\n",
    "\n",
    "    print(\"Data succesfully loaded!\")\n",
    "\n",
    "    return  X, y"
   ]
  },
  {
   "cell_type": "code",
   "execution_count": 4,
   "metadata": {},
   "outputs": [
    {
     "name": "stdout",
     "output_type": "stream",
     "text": [
      "Data succesfully loaded!\n"
     ]
    }
   ],
   "source": [
    "# load data\n",
    "X, y = load_data(DATA_PATH)"
   ]
  },
  {
   "cell_type": "code",
   "execution_count": 5,
   "metadata": {},
   "outputs": [
    {
     "data": {
      "text/plain": [
       "(9986, 130, 13)"
      ]
     },
     "execution_count": 5,
     "metadata": {},
     "output_type": "execute_result"
    }
   ],
   "source": [
    "X.shape"
   ]
  },
  {
   "cell_type": "code",
   "execution_count": 6,
   "metadata": {},
   "outputs": [],
   "source": [
    "# create train/test split\n",
    "X_train, X_test, y_train, y_test = train_test_split(X, y, test_size=0.3)"
   ]
  },
  {
   "cell_type": "code",
   "execution_count": 7,
   "metadata": {},
   "outputs": [],
   "source": [
    "# build network topology\n",
    "model = keras.Sequential([\n",
    "\n",
    "    # input layer\n",
    "    keras.layers.Flatten(input_shape=(X.shape[1], X.shape[2])),\n",
    "\n",
    "    # 1st dense layer\n",
    "    keras.layers.Dense(512, activation='relu'),\n",
    "\n",
    "    # 2nd dense layer\n",
    "    keras.layers.Dense(256, activation='relu'),\n",
    "\n",
    "    # 3rd dense layer\n",
    "    keras.layers.Dense(64, activation='relu'),\n",
    "\n",
    "    # output layer\n",
    "    keras.layers.Dense(10, activation='softmax')\n",
    "])"
   ]
  },
  {
   "cell_type": "code",
   "execution_count": 8,
   "metadata": {},
   "outputs": [
    {
     "name": "stdout",
     "output_type": "stream",
     "text": [
      "Model: \"sequential\"\n",
      "_________________________________________________________________\n",
      "Layer (type)                 Output Shape              Param #   \n",
      "=================================================================\n",
      "flatten (Flatten)            (None, 1690)              0         \n",
      "_________________________________________________________________\n",
      "dense (Dense)                (None, 512)               865792    \n",
      "_________________________________________________________________\n",
      "dense_1 (Dense)              (None, 256)               131328    \n",
      "_________________________________________________________________\n",
      "dense_2 (Dense)              (None, 64)                16448     \n",
      "_________________________________________________________________\n",
      "dense_3 (Dense)              (None, 10)                650       \n",
      "=================================================================\n",
      "Total params: 1,014,218\n",
      "Trainable params: 1,014,218\n",
      "Non-trainable params: 0\n",
      "_________________________________________________________________\n"
     ]
    }
   ],
   "source": [
    "# compile model\n",
    "optimiser = keras.optimizers.Adam(learning_rate=0.0001)\n",
    "model.compile(optimizer=optimiser,\n",
    "              loss='sparse_categorical_crossentropy',\n",
    "              metrics=['accuracy'])\n",
    "model.summary()"
   ]
  },
  {
   "cell_type": "code",
   "execution_count": 38,
   "metadata": {},
   "outputs": [
    {
     "name": "stdout",
     "output_type": "stream",
     "text": [
      "Epoch 1/50\n",
      "219/219 [==============================] - 4s 10ms/step - loss: 12.5919 - accuracy: 0.2664 - val_loss: 2.6075 - val_accuracy: 0.2644\n",
      "Epoch 2/50\n",
      "219/219 [==============================] - 2s 8ms/step - loss: 2.2317 - accuracy: 0.2722 - val_loss: 2.0512 - val_accuracy: 0.3114\n",
      "Epoch 3/50\n",
      "219/219 [==============================] - 2s 8ms/step - loss: 1.8377 - accuracy: 0.3916 - val_loss: 1.9253 - val_accuracy: 0.3818\n",
      "Epoch 4/50\n",
      "219/219 [==============================] - 2s 8ms/step - loss: 1.7139 - accuracy: 0.4323 - val_loss: 1.8229 - val_accuracy: 0.4142\n",
      "Epoch 5/50\n",
      "219/219 [==============================] - 2s 9ms/step - loss: 1.6044 - accuracy: 0.4511 - val_loss: 1.8516 - val_accuracy: 0.3925\n",
      "Epoch 6/50\n",
      "219/219 [==============================] - 2s 8ms/step - loss: 1.5354 - accuracy: 0.4796 - val_loss: 1.8009 - val_accuracy: 0.4259\n",
      "Epoch 7/50\n",
      "219/219 [==============================] - 2s 8ms/step - loss: 1.4352 - accuracy: 0.5020 - val_loss: 1.7247 - val_accuracy: 0.4516\n",
      "Epoch 8/50\n",
      "219/219 [==============================] - 2s 8ms/step - loss: 1.3594 - accuracy: 0.5246 - val_loss: 1.7930 - val_accuracy: 0.4349\n",
      "Epoch 9/50\n",
      "219/219 [==============================] - 2s 8ms/step - loss: 1.2531 - accuracy: 0.5502 - val_loss: 1.7274 - val_accuracy: 0.4706\n",
      "Epoch 10/50\n",
      "219/219 [==============================] - 2s 8ms/step - loss: 1.2210 - accuracy: 0.5781 - val_loss: 1.7117 - val_accuracy: 0.4720\n",
      "Epoch 11/50\n",
      "219/219 [==============================] - 2s 8ms/step - loss: 1.1228 - accuracy: 0.6028 - val_loss: 1.6653 - val_accuracy: 0.4846\n",
      "Epoch 12/50\n",
      "219/219 [==============================] - 2s 8ms/step - loss: 1.0994 - accuracy: 0.6043 - val_loss: 1.6858 - val_accuracy: 0.5043\n",
      "Epoch 13/50\n",
      "219/219 [==============================] - 2s 8ms/step - loss: 0.9966 - accuracy: 0.6400 - val_loss: 1.7438 - val_accuracy: 0.4897\n",
      "Epoch 14/50\n",
      "219/219 [==============================] - 2s 8ms/step - loss: 0.9562 - accuracy: 0.6632 - val_loss: 1.8173 - val_accuracy: 0.4670\n",
      "Epoch 15/50\n",
      "219/219 [==============================] - 2s 8ms/step - loss: 0.9847 - accuracy: 0.6405 - val_loss: 1.7405 - val_accuracy: 0.4957\n",
      "Epoch 16/50\n",
      "219/219 [==============================] - 2s 9ms/step - loss: 0.9132 - accuracy: 0.6667 - val_loss: 1.6080 - val_accuracy: 0.5260\n",
      "Epoch 17/50\n",
      "219/219 [==============================] - 2s 9ms/step - loss: 0.8591 - accuracy: 0.6898 - val_loss: 1.7766 - val_accuracy: 0.5130\n",
      "Epoch 18/50\n",
      "219/219 [==============================] - 2s 9ms/step - loss: 0.8613 - accuracy: 0.6912 - val_loss: 1.7043 - val_accuracy: 0.5270\n",
      "Epoch 19/50\n",
      "219/219 [==============================] - 2s 9ms/step - loss: 0.7387 - accuracy: 0.7187 - val_loss: 1.7965 - val_accuracy: 0.5254\n",
      "Epoch 20/50\n",
      "219/219 [==============================] - 2s 8ms/step - loss: 0.7078 - accuracy: 0.7345 - val_loss: 1.6674 - val_accuracy: 0.5227\n",
      "Epoch 21/50\n",
      "219/219 [==============================] - 2s 8ms/step - loss: 0.7066 - accuracy: 0.7433 - val_loss: 1.6684 - val_accuracy: 0.5454\n",
      "Epoch 22/50\n",
      "219/219 [==============================] - 2s 8ms/step - loss: 0.6642 - accuracy: 0.7618 - val_loss: 1.6212 - val_accuracy: 0.5718\n",
      "Epoch 23/50\n",
      "219/219 [==============================] - 2s 8ms/step - loss: 0.5665 - accuracy: 0.7884 - val_loss: 1.8329 - val_accuracy: 0.5517\n",
      "Epoch 24/50\n",
      "219/219 [==============================] - 2s 8ms/step - loss: 0.5768 - accuracy: 0.7965 - val_loss: 1.8777 - val_accuracy: 0.5477\n",
      "Epoch 25/50\n",
      "219/219 [==============================] - 2s 8ms/step - loss: 0.5236 - accuracy: 0.8031 - val_loss: 1.8295 - val_accuracy: 0.5701\n",
      "Epoch 26/50\n",
      "219/219 [==============================] - 2s 8ms/step - loss: 0.5018 - accuracy: 0.8179 - val_loss: 1.8756 - val_accuracy: 0.5574\n",
      "Epoch 27/50\n",
      "219/219 [==============================] - 2s 8ms/step - loss: 0.5258 - accuracy: 0.8038 - val_loss: 1.6888 - val_accuracy: 0.5831\n",
      "Epoch 28/50\n",
      "219/219 [==============================] - 2s 8ms/step - loss: 0.4399 - accuracy: 0.8401 - val_loss: 1.7560 - val_accuracy: 0.5764\n",
      "Epoch 29/50\n",
      "219/219 [==============================] - 2s 8ms/step - loss: 0.4122 - accuracy: 0.8486 - val_loss: 1.7725 - val_accuracy: 0.5868\n",
      "Epoch 30/50\n",
      "219/219 [==============================] - 2s 8ms/step - loss: 0.3941 - accuracy: 0.8613 - val_loss: 1.8708 - val_accuracy: 0.5898\n",
      "Epoch 31/50\n",
      "219/219 [==============================] - 2s 8ms/step - loss: 0.3614 - accuracy: 0.8650 - val_loss: 2.0004 - val_accuracy: 0.5708\n",
      "Epoch 32/50\n",
      "219/219 [==============================] - 2s 9ms/step - loss: 0.4303 - accuracy: 0.8437 - val_loss: 1.9261 - val_accuracy: 0.5844\n",
      "Epoch 33/50\n",
      "219/219 [==============================] - 2s 9ms/step - loss: 0.3745 - accuracy: 0.8613 - val_loss: 1.7771 - val_accuracy: 0.5891\n",
      "Epoch 34/50\n",
      "219/219 [==============================] - 2s 9ms/step - loss: 0.3210 - accuracy: 0.8821 - val_loss: 1.8554 - val_accuracy: 0.6021\n",
      "Epoch 35/50\n",
      "219/219 [==============================] - 2s 9ms/step - loss: 0.2923 - accuracy: 0.8985 - val_loss: 1.9767 - val_accuracy: 0.5945\n",
      "Epoch 36/50\n",
      "219/219 [==============================] - 2s 9ms/step - loss: 0.3101 - accuracy: 0.8876 - val_loss: 1.9736 - val_accuracy: 0.5928\n",
      "Epoch 37/50\n",
      "219/219 [==============================] - 2s 9ms/step - loss: 0.3198 - accuracy: 0.8908 - val_loss: 2.0074 - val_accuracy: 0.5811\n",
      "Epoch 38/50\n",
      "219/219 [==============================] - 2s 9ms/step - loss: 0.2696 - accuracy: 0.9028 - val_loss: 1.9254 - val_accuracy: 0.6158\n",
      "Epoch 39/50\n",
      "219/219 [==============================] - 2s 9ms/step - loss: 0.2207 - accuracy: 0.9223 - val_loss: 2.0537 - val_accuracy: 0.6121\n",
      "Epoch 40/50\n",
      "219/219 [==============================] - 2s 8ms/step - loss: 0.2531 - accuracy: 0.9130 - val_loss: 2.0189 - val_accuracy: 0.6031\n",
      "Epoch 41/50\n",
      "219/219 [==============================] - 2s 8ms/step - loss: 0.2126 - accuracy: 0.9276 - val_loss: 2.1100 - val_accuracy: 0.5958\n",
      "Epoch 42/50\n",
      "219/219 [==============================] - 2s 8ms/step - loss: 0.2064 - accuracy: 0.9250 - val_loss: 2.1835 - val_accuracy: 0.6132\n",
      "Epoch 43/50\n",
      "219/219 [==============================] - 2s 8ms/step - loss: 0.1856 - accuracy: 0.9346 - val_loss: 2.1707 - val_accuracy: 0.5961\n",
      "Epoch 44/50\n",
      "219/219 [==============================] - 2s 8ms/step - loss: 0.2053 - accuracy: 0.9265 - val_loss: 2.3208 - val_accuracy: 0.5925\n",
      "Epoch 45/50\n",
      "219/219 [==============================] - 2s 8ms/step - loss: 0.1861 - accuracy: 0.9379 - val_loss: 2.1795 - val_accuracy: 0.6001\n",
      "Epoch 46/50\n",
      "219/219 [==============================] - 2s 8ms/step - loss: 0.2245 - accuracy: 0.9208 - val_loss: 2.3259 - val_accuracy: 0.6035\n",
      "Epoch 47/50\n",
      "219/219 [==============================] - 2s 8ms/step - loss: 0.2171 - accuracy: 0.9251 - val_loss: 2.1372 - val_accuracy: 0.6105\n",
      "Epoch 48/50\n",
      "219/219 [==============================] - 2s 8ms/step - loss: 0.2253 - accuracy: 0.9186 - val_loss: 2.1408 - val_accuracy: 0.6225\n",
      "Epoch 49/50\n",
      "219/219 [==============================] - 2s 8ms/step - loss: 0.1312 - accuracy: 0.9544 - val_loss: 2.1260 - val_accuracy: 0.6048\n",
      "Epoch 50/50\n",
      "219/219 [==============================] - 2s 8ms/step - loss: 0.1526 - accuracy: 0.9464 - val_loss: 2.2341 - val_accuracy: 0.6235\n"
     ]
    },
    {
     "data": {
      "image/png": "[encoded data removed]",
      "text/plain": [
       "<Figure size 432x288 with 2 Axes>"
      ]
     },
     "metadata": {
      "needs_background": "light"
     },
     "output_type": "display_data"
    }
   ],
   "source": [
    "history = model.fit(X_train, y_train, validation_data=(X_test, y_test), batch_size=32, epochs=50)\n",
    "def plot_history(history):\n",
    "\n",
    "    fig, axs = plt.subplots(2)\n",
    "\n",
    "    # create accuracy sublpot\n",
    "    axs[0].plot(history.history[\"accuracy\"], label=\"train accuracy\")\n",
    "    axs[0].plot(history.history[\"val_accuracy\"], label=\"test accuracy\")\n",
    "    axs[0].set_ylabel(\"Accuracy\")\n",
    "    axs[0].legend(loc=\"lower right\")\n",
    "    axs[0].set_title(\"Accuracy eval\")\n",
    "\n",
    "    # create error sublpot\n",
    "    axs[1].plot(history.history[\"loss\"], label=\"train error\")\n",
    "    axs[1].plot(history.history[\"val_loss\"], label=\"test error\")\n",
    "    axs[1].set_ylabel(\"Error\")\n",
    "    axs[1].set_xlabel(\"Epoch\")\n",
    "    axs[1].legend(loc=\"upper right\")\n",
    "    axs[1].set_title(\"Error eval\")\n",
    "    \n",
    "    plt.show()\n",
    "# plot accuracy and error as a function of the epochs\n",
    "plot_history(history)"
   ]
  },
  {
   "cell_type": "code",
   "execution_count": 31,
   "metadata": {},
   "outputs": [
    {
     "name": "stdout",
     "output_type": "stream",
     "text": [
      "Epoch 1/100\n",
      "219/219 [==============================] - 6s 17ms/step - loss: 41.8890 - accuracy: 0.1365 - val_loss: 3.4089 - val_accuracy: 0.1893\n",
      "Epoch 2/100\n",
      "219/219 [==============================] - 3s 14ms/step - loss: 6.9110 - accuracy: 0.1492 - val_loss: 3.4745 - val_accuracy: 0.1255\n",
      "Epoch 3/100\n",
      "219/219 [==============================] - 3s 14ms/step - loss: 4.5020 - accuracy: 0.1263 - val_loss: 3.4711 - val_accuracy: 0.1305\n",
      "Epoch 4/100\n",
      "219/219 [==============================] - 3s 14ms/step - loss: 3.8674 - accuracy: 0.1218 - val_loss: 3.4677 - val_accuracy: 0.1268\n",
      "Epoch 5/100\n",
      "219/219 [==============================] - 3s 14ms/step - loss: 3.7619 - accuracy: 0.1300 - val_loss: 3.4848 - val_accuracy: 0.1158\n",
      "Epoch 6/100\n",
      "219/219 [==============================] - 3s 14ms/step - loss: 3.5918 - accuracy: 0.1205 - val_loss: 3.4434 - val_accuracy: 0.1355\n",
      "Epoch 7/100\n",
      "219/219 [==============================] - 3s 14ms/step - loss: 3.5712 - accuracy: 0.1322 - val_loss: 3.4338 - val_accuracy: 0.1352\n",
      "Epoch 8/100\n",
      "219/219 [==============================] - 3s 14ms/step - loss: 3.4991 - accuracy: 0.1496 - val_loss: 3.4112 - val_accuracy: 0.1482\n",
      "Epoch 9/100\n",
      "219/219 [==============================] - 3s 14ms/step - loss: 3.4959 - accuracy: 0.1512 - val_loss: 3.3647 - val_accuracy: 0.1699\n",
      "Epoch 10/100\n",
      "219/219 [==============================] - 3s 14ms/step - loss: 3.4689 - accuracy: 0.1547 - val_loss: 3.3614 - val_accuracy: 0.1662\n",
      "Epoch 11/100\n",
      "219/219 [==============================] - 3s 14ms/step - loss: 3.4682 - accuracy: 0.1627 - val_loss: 3.3303 - val_accuracy: 0.1786\n",
      "Epoch 12/100\n",
      "219/219 [==============================] - 3s 14ms/step - loss: 3.4019 - accuracy: 0.1659 - val_loss: 3.3097 - val_accuracy: 0.1856\n",
      "Epoch 13/100\n",
      "219/219 [==============================] - 3s 13ms/step - loss: 3.3710 - accuracy: 0.1823 - val_loss: 3.3309 - val_accuracy: 0.1676\n",
      "Epoch 14/100\n",
      "219/219 [==============================] - 3s 14ms/step - loss: 3.3453 - accuracy: 0.1796 - val_loss: 3.2480 - val_accuracy: 0.2116\n",
      "Epoch 15/100\n",
      "219/219 [==============================] - 3s 14ms/step - loss: 3.2924 - accuracy: 0.1990 - val_loss: 3.2677 - val_accuracy: 0.1896\n",
      "Epoch 16/100\n",
      "219/219 [==============================] - 3s 15ms/step - loss: 3.2963 - accuracy: 0.1966 - val_loss: 3.2105 - val_accuracy: 0.2173\n",
      "Epoch 17/100\n",
      "219/219 [==============================] - 3s 14ms/step - loss: 3.2485 - accuracy: 0.2025 - val_loss: 3.1946 - val_accuracy: 0.2150\n",
      "Epoch 18/100\n",
      "219/219 [==============================] - 3s 15ms/step - loss: 3.2641 - accuracy: 0.2069 - val_loss: 3.1833 - val_accuracy: 0.2126\n",
      "Epoch 19/100\n",
      "219/219 [==============================] - 3s 14ms/step - loss: 3.2165 - accuracy: 0.2079 - val_loss: 3.1436 - val_accuracy: 0.2323\n",
      "Epoch 20/100\n",
      "219/219 [==============================] - 3s 15ms/step - loss: 3.2130 - accuracy: 0.2048 - val_loss: 3.1536 - val_accuracy: 0.2183\n",
      "Epoch 21/100\n",
      "219/219 [==============================] - 3s 14ms/step - loss: 3.1836 - accuracy: 0.2183 - val_loss: 3.1097 - val_accuracy: 0.2313\n",
      "Epoch 22/100\n",
      "219/219 [==============================] - 3s 14ms/step - loss: 3.1495 - accuracy: 0.2198 - val_loss: 3.0888 - val_accuracy: 0.2363\n",
      "Epoch 23/100\n",
      "219/219 [==============================] - 3s 14ms/step - loss: 3.1381 - accuracy: 0.2128 - val_loss: 3.0907 - val_accuracy: 0.2356\n",
      "Epoch 24/100\n",
      "219/219 [==============================] - 3s 14ms/step - loss: 3.1151 - accuracy: 0.2227 - val_loss: 3.0430 - val_accuracy: 0.2543\n",
      "Epoch 25/100\n",
      "219/219 [==============================] - 3s 14ms/step - loss: 3.0958 - accuracy: 0.2233 - val_loss: 3.0191 - val_accuracy: 0.2543\n",
      "Epoch 26/100\n",
      "145/219 [==================>...........] - ETA: 0s - loss: 3.0780 - accuracy: 0.2382"
     ]
    },
    {
     "ename": "KeyboardInterrupt",
     "evalue": "",
     "output_type": "error",
     "traceback": [
      "\u001b[1;31m---------------------------------------------------------------------------\u001b[0m",
      "\u001b[1;31mKeyboardInterrupt\u001b[0m                         Traceback (most recent call last)",
      "\u001b[1;32m<ipython-input-31-8f963ac43ae8>\u001b[0m in \u001b[0;36m<module>\u001b[1;34m\u001b[0m\n\u001b[0;32m     26\u001b[0m               metrics=['accuracy'])\n\u001b[0;32m     27\u001b[0m \u001b[1;31m# train model\u001b[0m\u001b[1;33m\u001b[0m\u001b[1;33m\u001b[0m\u001b[1;33m\u001b[0m\u001b[0m\n\u001b[1;32m---> 28\u001b[1;33m \u001b[0mhistory\u001b[0m \u001b[1;33m=\u001b[0m \u001b[0mmodel_regularized\u001b[0m\u001b[1;33m.\u001b[0m\u001b[0mfit\u001b[0m\u001b[1;33m(\u001b[0m\u001b[0mX_train\u001b[0m\u001b[1;33m,\u001b[0m \u001b[0my_train\u001b[0m\u001b[1;33m,\u001b[0m \u001b[0mvalidation_data\u001b[0m\u001b[1;33m=\u001b[0m\u001b[1;33m(\u001b[0m\u001b[0mX_test\u001b[0m\u001b[1;33m,\u001b[0m \u001b[0my_test\u001b[0m\u001b[1;33m)\u001b[0m\u001b[1;33m,\u001b[0m \u001b[0mbatch_size\u001b[0m\u001b[1;33m=\u001b[0m\u001b[1;36m32\u001b[0m\u001b[1;33m,\u001b[0m \u001b[0mepochs\u001b[0m\u001b[1;33m=\u001b[0m\u001b[1;36m100\u001b[0m\u001b[1;33m)\u001b[0m\u001b[1;33m\u001b[0m\u001b[1;33m\u001b[0m\u001b[0m\n\u001b[0m\u001b[0;32m     29\u001b[0m \u001b[1;31m# plot accuracy and error as a function of the epochs\u001b[0m\u001b[1;33m\u001b[0m\u001b[1;33m\u001b[0m\u001b[1;33m\u001b[0m\u001b[0m\n\u001b[0;32m     30\u001b[0m \u001b[0mplot_history\u001b[0m\u001b[1;33m(\u001b[0m\u001b[0mhistory\u001b[0m\u001b[1;33m)\u001b[0m\u001b[1;33m\u001b[0m\u001b[1;33m\u001b[0m\u001b[0m\n",
      "\u001b[1;32mc:\\users\\hp\\appdata\\local\\programs\\python\\python37\\lib\\site-packages\\tensorflow\\python\\keras\\engine\\training.py\u001b[0m in \u001b[0;36mfit\u001b[1;34m(self, x, y, batch_size, epochs, verbose, callbacks, validation_split, validation_data, shuffle, class_weight, sample_weight, initial_epoch, steps_per_epoch, validation_steps, validation_batch_size, validation_freq, max_queue_size, workers, use_multiprocessing)\u001b[0m\n\u001b[0;32m   1098\u001b[0m                 _r=1):\n\u001b[0;32m   1099\u001b[0m               \u001b[0mcallbacks\u001b[0m\u001b[1;33m.\u001b[0m\u001b[0mon_train_batch_begin\u001b[0m\u001b[1;33m(\u001b[0m\u001b[0mstep\u001b[0m\u001b[1;33m)\u001b[0m\u001b[1;33m\u001b[0m\u001b[1;33m\u001b[0m\u001b[0m\n\u001b[1;32m-> 1100\u001b[1;33m               \u001b[0mtmp_logs\u001b[0m \u001b[1;33m=\u001b[0m \u001b[0mself\u001b[0m\u001b[1;33m.\u001b[0m\u001b[0mtrain_function\u001b[0m\u001b[1;33m(\u001b[0m\u001b[0miterator\u001b[0m\u001b[1;33m)\u001b[0m\u001b[1;33m\u001b[0m\u001b[1;33m\u001b[0m\u001b[0m\n\u001b[0m\u001b[0;32m   1101\u001b[0m               \u001b[1;32mif\u001b[0m \u001b[0mdata_handler\u001b[0m\u001b[1;33m.\u001b[0m\u001b[0mshould_sync\u001b[0m\u001b[1;33m:\u001b[0m\u001b[1;33m\u001b[0m\u001b[1;33m\u001b[0m\u001b[0m\n\u001b[0;32m   1102\u001b[0m                 \u001b[0mcontext\u001b[0m\u001b[1;33m.\u001b[0m\u001b[0masync_wait\u001b[0m\u001b[1;33m(\u001b[0m\u001b[1;33m)\u001b[0m\u001b[1;33m\u001b[0m\u001b[1;33m\u001b[0m\u001b[0m\n",
      "\u001b[1;32mc:\\users\\hp\\appdata\\local\\programs\\python\\python37\\lib\\site-packages\\tensorflow\\python\\eager\\def_function.py\u001b[0m in \u001b[0;36m__call__\u001b[1;34m(self, *args, **kwds)\u001b[0m\n\u001b[0;32m    826\u001b[0m     \u001b[0mtracing_count\u001b[0m \u001b[1;33m=\u001b[0m \u001b[0mself\u001b[0m\u001b[1;33m.\u001b[0m\u001b[0mexperimental_get_tracing_count\u001b[0m\u001b[1;33m(\u001b[0m\u001b[1;33m)\u001b[0m\u001b[1;33m\u001b[0m\u001b[1;33m\u001b[0m\u001b[0m\n\u001b[0;32m    827\u001b[0m     \u001b[1;32mwith\u001b[0m \u001b[0mtrace\u001b[0m\u001b[1;33m.\u001b[0m\u001b[0mTrace\u001b[0m\u001b[1;33m(\u001b[0m\u001b[0mself\u001b[0m\u001b[1;33m.\u001b[0m\u001b[0m_name\u001b[0m\u001b[1;33m)\u001b[0m \u001b[1;32mas\u001b[0m \u001b[0mtm\u001b[0m\u001b[1;33m:\u001b[0m\u001b[1;33m\u001b[0m\u001b[1;33m\u001b[0m\u001b[0m\n\u001b[1;32m--> 828\u001b[1;33m       \u001b[0mresult\u001b[0m \u001b[1;33m=\u001b[0m \u001b[0mself\u001b[0m\u001b[1;33m.\u001b[0m\u001b[0m_call\u001b[0m\u001b[1;33m(\u001b[0m\u001b[1;33m*\u001b[0m\u001b[0margs\u001b[0m\u001b[1;33m,\u001b[0m \u001b[1;33m**\u001b[0m\u001b[0mkwds\u001b[0m\u001b[1;33m)\u001b[0m\u001b[1;33m\u001b[0m\u001b[1;33m\u001b[0m\u001b[0m\n\u001b[0m\u001b[0;32m    829\u001b[0m       \u001b[0mcompiler\u001b[0m \u001b[1;33m=\u001b[0m \u001b[1;34m\"xla\"\u001b[0m \u001b[1;32mif\u001b[0m \u001b[0mself\u001b[0m\u001b[1;33m.\u001b[0m\u001b[0m_experimental_compile\u001b[0m \u001b[1;32melse\u001b[0m \u001b[1;34m\"nonXla\"\u001b[0m\u001b[1;33m\u001b[0m\u001b[1;33m\u001b[0m\u001b[0m\n\u001b[0;32m    830\u001b[0m       \u001b[0mnew_tracing_count\u001b[0m \u001b[1;33m=\u001b[0m \u001b[0mself\u001b[0m\u001b[1;33m.\u001b[0m\u001b[0mexperimental_get_tracing_count\u001b[0m\u001b[1;33m(\u001b[0m\u001b[1;33m)\u001b[0m\u001b[1;33m\u001b[0m\u001b[1;33m\u001b[0m\u001b[0m\n",
      "\u001b[1;32mc:\\users\\hp\\appdata\\local\\programs\\python\\python37\\lib\\site-packages\\tensorflow\\python\\eager\\def_function.py\u001b[0m in \u001b[0;36m_call\u001b[1;34m(self, *args, **kwds)\u001b[0m\n\u001b[0;32m    853\u001b[0m       \u001b[1;31m# In this case we have created variables on the first call, so we run the\u001b[0m\u001b[1;33m\u001b[0m\u001b[1;33m\u001b[0m\u001b[1;33m\u001b[0m\u001b[0m\n\u001b[0;32m    854\u001b[0m       \u001b[1;31m# defunned version which is guaranteed to never create variables.\u001b[0m\u001b[1;33m\u001b[0m\u001b[1;33m\u001b[0m\u001b[1;33m\u001b[0m\u001b[0m\n\u001b[1;32m--> 855\u001b[1;33m       \u001b[1;32mreturn\u001b[0m \u001b[0mself\u001b[0m\u001b[1;33m.\u001b[0m\u001b[0m_stateless_fn\u001b[0m\u001b[1;33m(\u001b[0m\u001b[1;33m*\u001b[0m\u001b[0margs\u001b[0m\u001b[1;33m,\u001b[0m \u001b[1;33m**\u001b[0m\u001b[0mkwds\u001b[0m\u001b[1;33m)\u001b[0m  \u001b[1;31m# pylint: disable=not-callable\u001b[0m\u001b[1;33m\u001b[0m\u001b[1;33m\u001b[0m\u001b[0m\n\u001b[0m\u001b[0;32m    856\u001b[0m     \u001b[1;32melif\u001b[0m \u001b[0mself\u001b[0m\u001b[1;33m.\u001b[0m\u001b[0m_stateful_fn\u001b[0m \u001b[1;32mis\u001b[0m \u001b[1;32mnot\u001b[0m \u001b[1;32mNone\u001b[0m\u001b[1;33m:\u001b[0m\u001b[1;33m\u001b[0m\u001b[1;33m\u001b[0m\u001b[0m\n\u001b[0;32m    857\u001b[0m       \u001b[1;31m# Release the lock early so that multiple threads can perform the call\u001b[0m\u001b[1;33m\u001b[0m\u001b[1;33m\u001b[0m\u001b[1;33m\u001b[0m\u001b[0m\n",
      "\u001b[1;32mc:\\users\\hp\\appdata\\local\\programs\\python\\python37\\lib\\site-packages\\tensorflow\\python\\eager\\function.py\u001b[0m in \u001b[0;36m__call__\u001b[1;34m(self, *args, **kwargs)\u001b[0m\n\u001b[0;32m   2941\u001b[0m        filtered_flat_args) = self._maybe_define_function(args, kwargs)\n\u001b[0;32m   2942\u001b[0m     return graph_function._call_flat(\n\u001b[1;32m-> 2943\u001b[1;33m         filtered_flat_args, captured_inputs=graph_function.captured_inputs)  # pylint: disable=protected-access\n\u001b[0m\u001b[0;32m   2944\u001b[0m \u001b[1;33m\u001b[0m\u001b[0m\n\u001b[0;32m   2945\u001b[0m   \u001b[1;33m@\u001b[0m\u001b[0mproperty\u001b[0m\u001b[1;33m\u001b[0m\u001b[1;33m\u001b[0m\u001b[0m\n",
      "\u001b[1;32mc:\\users\\hp\\appdata\\local\\programs\\python\\python37\\lib\\site-packages\\tensorflow\\python\\eager\\function.py\u001b[0m in \u001b[0;36m_call_flat\u001b[1;34m(self, args, captured_inputs, cancellation_manager)\u001b[0m\n\u001b[0;32m   1917\u001b[0m       \u001b[1;31m# No tape is watching; skip to running the function.\u001b[0m\u001b[1;33m\u001b[0m\u001b[1;33m\u001b[0m\u001b[1;33m\u001b[0m\u001b[0m\n\u001b[0;32m   1918\u001b[0m       return self._build_call_outputs(self._inference_function.call(\n\u001b[1;32m-> 1919\u001b[1;33m           ctx, args, cancellation_manager=cancellation_manager))\n\u001b[0m\u001b[0;32m   1920\u001b[0m     forward_backward = self._select_forward_and_backward_functions(\n\u001b[0;32m   1921\u001b[0m         \u001b[0margs\u001b[0m\u001b[1;33m,\u001b[0m\u001b[1;33m\u001b[0m\u001b[1;33m\u001b[0m\u001b[0m\n",
      "\u001b[1;32mc:\\users\\hp\\appdata\\local\\programs\\python\\python37\\lib\\site-packages\\tensorflow\\python\\eager\\function.py\u001b[0m in \u001b[0;36mcall\u001b[1;34m(self, ctx, args, cancellation_manager)\u001b[0m\n\u001b[0;32m    558\u001b[0m               \u001b[0minputs\u001b[0m\u001b[1;33m=\u001b[0m\u001b[0margs\u001b[0m\u001b[1;33m,\u001b[0m\u001b[1;33m\u001b[0m\u001b[1;33m\u001b[0m\u001b[0m\n\u001b[0;32m    559\u001b[0m               \u001b[0mattrs\u001b[0m\u001b[1;33m=\u001b[0m\u001b[0mattrs\u001b[0m\u001b[1;33m,\u001b[0m\u001b[1;33m\u001b[0m\u001b[1;33m\u001b[0m\u001b[0m\n\u001b[1;32m--> 560\u001b[1;33m               ctx=ctx)\n\u001b[0m\u001b[0;32m    561\u001b[0m         \u001b[1;32melse\u001b[0m\u001b[1;33m:\u001b[0m\u001b[1;33m\u001b[0m\u001b[1;33m\u001b[0m\u001b[0m\n\u001b[0;32m    562\u001b[0m           outputs = execute.execute_with_cancellation(\n",
      "\u001b[1;32mc:\\users\\hp\\appdata\\local\\programs\\python\\python37\\lib\\site-packages\\tensorflow\\python\\eager\\execute.py\u001b[0m in \u001b[0;36mquick_execute\u001b[1;34m(op_name, num_outputs, inputs, attrs, ctx, name)\u001b[0m\n\u001b[0;32m     58\u001b[0m     \u001b[0mctx\u001b[0m\u001b[1;33m.\u001b[0m\u001b[0mensure_initialized\u001b[0m\u001b[1;33m(\u001b[0m\u001b[1;33m)\u001b[0m\u001b[1;33m\u001b[0m\u001b[1;33m\u001b[0m\u001b[0m\n\u001b[0;32m     59\u001b[0m     tensors = pywrap_tfe.TFE_Py_Execute(ctx._handle, device_name, op_name,\n\u001b[1;32m---> 60\u001b[1;33m                                         inputs, attrs, num_outputs)\n\u001b[0m\u001b[0;32m     61\u001b[0m   \u001b[1;32mexcept\u001b[0m \u001b[0mcore\u001b[0m\u001b[1;33m.\u001b[0m\u001b[0m_NotOkStatusException\u001b[0m \u001b[1;32mas\u001b[0m \u001b[0me\u001b[0m\u001b[1;33m:\u001b[0m\u001b[1;33m\u001b[0m\u001b[1;33m\u001b[0m\u001b[0m\n\u001b[0;32m     62\u001b[0m     \u001b[1;32mif\u001b[0m \u001b[0mname\u001b[0m \u001b[1;32mis\u001b[0m \u001b[1;32mnot\u001b[0m \u001b[1;32mNone\u001b[0m\u001b[1;33m:\u001b[0m\u001b[1;33m\u001b[0m\u001b[1;33m\u001b[0m\u001b[0m\n",
      "\u001b[1;31mKeyboardInterrupt\u001b[0m: "
     ]
    }
   ],
   "source": [
    "# build network topology\n",
    "model_regularized = keras.Sequential([\n",
    "\n",
    "    # input layer\n",
    "    keras.layers.Flatten(input_shape=(X.shape[1], X.shape[2])),\n",
    "\n",
    "    # 1st dense layer\n",
    "    keras.layers.Dense(512, activation='relu', kernel_regularizer=keras.regularizers.l2(0.001)),\n",
    "    keras.layers.Dropout(0.3),\n",
    "\n",
    "    # 2nd dense layer\n",
    "    keras.layers.Dense(256, activation='relu', kernel_regularizer=keras.regularizers.l2(0.001)),\n",
    "    keras.layers.Dropout(0.3),\n",
    "\n",
    "    # 3rd dense layer\n",
    "    keras.layers.Dense(64, activation='relu', kernel_regularizer=keras.regularizers.l2(0.001)),\n",
    "    keras.layers.Dropout(0.3),\n",
    "\n",
    "    # output layer\n",
    "    keras.layers.Dense(10, activation='softmax')\n",
    "])\n",
    "# compile model\n",
    "optimiser = keras.optimizers.Adam(learning_rate=0.0001)\n",
    "model_regularized.compile(optimizer=optimiser,\n",
    "              loss='sparse_categorical_crossentropy',\n",
    "              metrics=['accuracy'])\n",
    "# train model\n",
    "history = model_regularized.fit(X_train, y_train, validation_data=(X_test, y_test), batch_size=32, epochs=100)\n",
    "# plot accuracy and error as a function of the epochs\n",
    "plot_history(history)"
   ]
  },
  {
   "cell_type": "code",
   "execution_count": 7,
   "metadata": {},
   "outputs": [],
   "source": [
    "# create train, validation and test split\n",
    "X_train, X_test, y_train, y_test = train_test_split(X, y, test_size=0.25)\n",
    "X_train, X_validation, y_train, y_validation = train_test_split(X_train, y_train, test_size=0.2)\n",
    "\n",
    "# add an axis to input sets\n",
    "X_train = X_train[..., np.newaxis]\n",
    "X_validation = X_validation[..., np.newaxis]\n",
    "X_test = X_test[..., np.newaxis]"
   ]
  },
  {
   "cell_type": "code",
   "execution_count": 8,
   "metadata": {},
   "outputs": [
    {
     "data": {
      "text/plain": [
       "(5991, 130, 13, 1)"
      ]
     },
     "execution_count": 8,
     "metadata": {},
     "output_type": "execute_result"
    }
   ],
   "source": [
    "X_train.shape"
   ]
  },
  {
   "cell_type": "code",
   "execution_count": 9,
   "metadata": {},
   "outputs": [],
   "source": [
    "input_shape = (X_train.shape[1], X_train.shape[2], 1)"
   ]
  },
  {
   "cell_type": "code",
   "execution_count": 49,
   "metadata": {},
   "outputs": [],
   "source": [
    "# build the CNN\n",
    "model_cnn = keras.Sequential()\n",
    "\n",
    "# 1st conv layer\n",
    "model_cnn.add(keras.layers.Conv2D(32, (3, 3), activation='relu', input_shape=input_shape))\n",
    "model_cnn.add(keras.layers.MaxPooling2D((3, 3), strides=(2, 2), padding='same'))\n",
    "model_cnn.add(keras.layers.BatchNormalization())\n",
    "\n",
    "# 2nd conv layer\n",
    "model_cnn.add(keras.layers.Conv2D(32, (3, 3), activation='relu'))\n",
    "model_cnn.add(keras.layers.MaxPooling2D((3, 3), strides=(2, 2), padding='same'))\n",
    "model_cnn.add(keras.layers.BatchNormalization())\n",
    "\n",
    "# 3rd conv layer\n",
    "model_cnn.add(keras.layers.Conv2D(32, (2, 2), activation='relu'))\n",
    "model_cnn.add(keras.layers.MaxPooling2D((2, 2), strides=(2, 2), padding='same'))\n",
    "model_cnn.add(keras.layers.BatchNormalization())\n",
    "\n",
    "# flatten output and feed it into dense layer\n",
    "model_cnn.add(keras.layers.Flatten())\n",
    "model_cnn.add(keras.layers.Dense(64, activation='relu'))\n",
    "model_cnn.add(keras.layers.Dropout(0.3))\n",
    "\n",
    "# output layer\n",
    "model_cnn.add(keras.layers.Dense(10, activation='softmax'))"
   ]
  },
  {
   "cell_type": "code",
   "execution_count": 50,
   "metadata": {},
   "outputs": [
    {
     "name": "stdout",
     "output_type": "stream",
     "text": [
      "Model: \"sequential_3\"\n",
      "_________________________________________________________________\n",
      "Layer (type)                 Output Shape              Param #   \n",
      "=================================================================\n",
      "conv2d_6 (Conv2D)            (None, 128, 11, 32)       320       \n",
      "_________________________________________________________________\n",
      "max_pooling2d_6 (MaxPooling2 (None, 64, 6, 32)         0         \n",
      "_________________________________________________________________\n",
      "batch_normalization_6 (Batch (None, 64, 6, 32)         128       \n",
      "_________________________________________________________________\n",
      "conv2d_7 (Conv2D)            (None, 62, 4, 32)         9248      \n",
      "_________________________________________________________________\n",
      "max_pooling2d_7 (MaxPooling2 (None, 31, 2, 32)         0         \n",
      "_________________________________________________________________\n",
      "batch_normalization_7 (Batch (None, 31, 2, 32)         128       \n",
      "_________________________________________________________________\n",
      "conv2d_8 (Conv2D)            (None, 30, 1, 32)         4128      \n",
      "_________________________________________________________________\n",
      "max_pooling2d_8 (MaxPooling2 (None, 15, 1, 32)         0         \n",
      "_________________________________________________________________\n",
      "batch_normalization_8 (Batch (None, 15, 1, 32)         128       \n",
      "_________________________________________________________________\n",
      "flatten_3 (Flatten)          (None, 480)               0         \n",
      "_________________________________________________________________\n",
      "dense_8 (Dense)              (None, 64)                30784     \n",
      "_________________________________________________________________\n",
      "dropout_5 (Dropout)          (None, 64)                0         \n",
      "_________________________________________________________________\n",
      "dense_9 (Dense)              (None, 10)                650       \n",
      "=================================================================\n",
      "Total params: 45,514\n",
      "Trainable params: 45,322\n",
      "Non-trainable params: 192\n",
      "_________________________________________________________________\n"
     ]
    }
   ],
   "source": [
    "# compile model\n",
    "optimiser = keras.optimizers.Adam(learning_rate=0.0001)\n",
    "model_cnn.compile(optimizer=optimiser,\n",
    "              loss='sparse_categorical_crossentropy',\n",
    "              metrics=['accuracy'])\n",
    "model_cnn.summary()"
   ]
  },
  {
   "cell_type": "code",
   "execution_count": 51,
   "metadata": {},
   "outputs": [
    {
     "name": "stdout",
     "output_type": "stream",
     "text": [
      "Epoch 1/50\n",
      "188/188 [==============================] - 9s 41ms/step - loss: 2.4938 - accuracy: 0.1882 - val_loss: 1.7528 - val_accuracy: 0.3905\n",
      "Epoch 2/50\n",
      "188/188 [==============================] - 8s 40ms/step - loss: 1.8568 - accuracy: 0.3566 - val_loss: 1.5120 - val_accuracy: 0.4680\n",
      "Epoch 3/50\n",
      "188/188 [==============================] - 8s 41ms/step - loss: 1.6420 - accuracy: 0.4240 - val_loss: 1.3948 - val_accuracy: 0.5100\n",
      "Epoch 4/50\n",
      "188/188 [==============================] - 8s 42ms/step - loss: 1.4958 - accuracy: 0.4645 - val_loss: 1.3091 - val_accuracy: 0.5194\n",
      "Epoch 5/50\n",
      "188/188 [==============================] - 8s 43ms/step - loss: 1.4376 - accuracy: 0.4854 - val_loss: 1.2466 - val_accuracy: 0.5574\n",
      "Epoch 6/50\n",
      "188/188 [==============================] - 8s 43ms/step - loss: 1.3596 - accuracy: 0.5061 - val_loss: 1.1911 - val_accuracy: 0.5728\n",
      "Epoch 7/50\n",
      "188/188 [==============================] - 8s 41ms/step - loss: 1.2718 - accuracy: 0.5451 - val_loss: 1.1494 - val_accuracy: 0.5941\n",
      "Epoch 8/50\n",
      "188/188 [==============================] - 8s 42ms/step - loss: 1.2169 - accuracy: 0.5691 - val_loss: 1.1167 - val_accuracy: 0.6035\n",
      "Epoch 9/50\n",
      "188/188 [==============================] - 8s 42ms/step - loss: 1.1864 - accuracy: 0.5677 - val_loss: 1.0722 - val_accuracy: 0.6222\n",
      "Epoch 10/50\n",
      "188/188 [==============================] - 8s 42ms/step - loss: 1.1319 - accuracy: 0.5946 - val_loss: 1.0720 - val_accuracy: 0.6288\n",
      "Epoch 11/50\n",
      "188/188 [==============================] - 8s 42ms/step - loss: 1.1027 - accuracy: 0.6056 - val_loss: 1.0226 - val_accuracy: 0.6509\n",
      "Epoch 12/50\n",
      "188/188 [==============================] - 9s 46ms/step - loss: 1.0672 - accuracy: 0.6168 - val_loss: 0.9996 - val_accuracy: 0.6542\n",
      "Epoch 13/50\n",
      "188/188 [==============================] - 8s 44ms/step - loss: 1.0416 - accuracy: 0.6395 - val_loss: 1.0089 - val_accuracy: 0.6348\n",
      "Epoch 14/50\n",
      "188/188 [==============================] - 8s 45ms/step - loss: 1.0366 - accuracy: 0.6320 - val_loss: 0.9643 - val_accuracy: 0.6742\n",
      "Epoch 15/50\n",
      "188/188 [==============================] - 9s 45ms/step - loss: 0.9744 - accuracy: 0.6502 - val_loss: 0.9611 - val_accuracy: 0.6782\n",
      "Epoch 16/50\n",
      "188/188 [==============================] - 9s 45ms/step - loss: 0.9649 - accuracy: 0.6520 - val_loss: 0.9518 - val_accuracy: 0.6642\n",
      "Epoch 17/50\n",
      "188/188 [==============================] - 8s 44ms/step - loss: 0.9468 - accuracy: 0.6690 - val_loss: 0.9083 - val_accuracy: 0.6903\n",
      "Epoch 18/50\n",
      "188/188 [==============================] - 8s 45ms/step - loss: 0.8895 - accuracy: 0.6848 - val_loss: 0.9113 - val_accuracy: 0.6876\n",
      "Epoch 19/50\n",
      "188/188 [==============================] - 9s 46ms/step - loss: 0.8885 - accuracy: 0.6895 - val_loss: 0.8859 - val_accuracy: 0.6903\n",
      "Epoch 20/50\n",
      "188/188 [==============================] - 9s 46ms/step - loss: 0.8504 - accuracy: 0.6967 - val_loss: 0.8777 - val_accuracy: 0.6936\n",
      "Epoch 21/50\n",
      "188/188 [==============================] - 9s 46ms/step - loss: 0.8567 - accuracy: 0.7007 - val_loss: 0.8695 - val_accuracy: 0.6963\n",
      "Epoch 22/50\n",
      "188/188 [==============================] - 9s 46ms/step - loss: 0.8219 - accuracy: 0.7045 - val_loss: 0.8629 - val_accuracy: 0.6936\n",
      "Epoch 23/50\n",
      "188/188 [==============================] - 8s 45ms/step - loss: 0.8089 - accuracy: 0.7139 - val_loss: 0.8320 - val_accuracy: 0.7196\n",
      "Epoch 24/50\n",
      "188/188 [==============================] - 9s 45ms/step - loss: 0.7571 - accuracy: 0.7350 - val_loss: 0.8654 - val_accuracy: 0.7009\n",
      "Epoch 25/50\n",
      "188/188 [==============================] - 8s 43ms/step - loss: 0.7760 - accuracy: 0.7319 - val_loss: 0.8334 - val_accuracy: 0.7116\n",
      "Epoch 26/50\n",
      "188/188 [==============================] - 8s 44ms/step - loss: 0.7057 - accuracy: 0.7540 - val_loss: 0.7965 - val_accuracy: 0.7230\n",
      "Epoch 27/50\n",
      "188/188 [==============================] - 9s 46ms/step - loss: 0.7110 - accuracy: 0.7575 - val_loss: 0.8240 - val_accuracy: 0.7230\n",
      "Epoch 28/50\n",
      "188/188 [==============================] - 9s 47ms/step - loss: 0.7147 - accuracy: 0.7591 - val_loss: 0.7908 - val_accuracy: 0.7256\n",
      "Epoch 29/50\n",
      "188/188 [==============================] - 10s 53ms/step - loss: 0.7189 - accuracy: 0.7536 - val_loss: 0.7863 - val_accuracy: 0.7290\n",
      "Epoch 30/50\n",
      "188/188 [==============================] - 10s 51ms/step - loss: 0.6972 - accuracy: 0.7561 - val_loss: 0.7812 - val_accuracy: 0.7370\n",
      "Epoch 31/50\n",
      "188/188 [==============================] - 9s 48ms/step - loss: 0.6566 - accuracy: 0.7683 - val_loss: 0.7800 - val_accuracy: 0.7263\n",
      "Epoch 32/50\n",
      "188/188 [==============================] - 9s 50ms/step - loss: 0.6691 - accuracy: 0.7617 - val_loss: 0.7642 - val_accuracy: 0.7370\n",
      "Epoch 33/50\n",
      "188/188 [==============================] - 11s 59ms/step - loss: 0.6709 - accuracy: 0.7679 - val_loss: 0.7869 - val_accuracy: 0.7270\n",
      "Epoch 34/50\n",
      "188/188 [==============================] - 11s 59ms/step - loss: 0.6272 - accuracy: 0.7823 - val_loss: 0.7708 - val_accuracy: 0.7410\n",
      "Epoch 35/50\n",
      "188/188 [==============================] - 9s 50ms/step - loss: 0.6039 - accuracy: 0.7835 - val_loss: 0.7676 - val_accuracy: 0.7330\n",
      "Epoch 36/50\n",
      "188/188 [==============================] - 9s 46ms/step - loss: 0.6346 - accuracy: 0.7793 - val_loss: 0.7760 - val_accuracy: 0.7356\n",
      "Epoch 37/50\n",
      "188/188 [==============================] - 9s 46ms/step - loss: 0.6112 - accuracy: 0.7884 - val_loss: 0.7412 - val_accuracy: 0.7550\n",
      "Epoch 38/50\n",
      "188/188 [==============================] - 9s 49ms/step - loss: 0.5953 - accuracy: 0.8031 - val_loss: 0.7850 - val_accuracy: 0.7377\n",
      "Epoch 39/50\n",
      "188/188 [==============================] - 9s 46ms/step - loss: 0.5805 - accuracy: 0.7962 - val_loss: 0.7744 - val_accuracy: 0.7443\n",
      "Epoch 40/50\n",
      "188/188 [==============================] - 9s 46ms/step - loss: 0.5695 - accuracy: 0.8081 - val_loss: 0.7553 - val_accuracy: 0.7410\n",
      "Epoch 41/50\n",
      "188/188 [==============================] - 8s 44ms/step - loss: 0.5418 - accuracy: 0.8053 - val_loss: 0.7849 - val_accuracy: 0.7363\n",
      "Epoch 42/50\n",
      "188/188 [==============================] - 8s 43ms/step - loss: 0.5577 - accuracy: 0.8026 - val_loss: 0.7605 - val_accuracy: 0.7523\n",
      "Epoch 43/50\n",
      "188/188 [==============================] - 9s 46ms/step - loss: 0.5359 - accuracy: 0.8167 - val_loss: 0.7225 - val_accuracy: 0.7557\n",
      "Epoch 44/50\n",
      "188/188 [==============================] - 8s 45ms/step - loss: 0.5483 - accuracy: 0.8102 - val_loss: 0.7196 - val_accuracy: 0.7617\n",
      "Epoch 45/50\n",
      "188/188 [==============================] - 8s 43ms/step - loss: 0.5265 - accuracy: 0.8209 - val_loss: 0.7315 - val_accuracy: 0.7530\n",
      "Epoch 46/50\n",
      "188/188 [==============================] - 8s 43ms/step - loss: 0.4927 - accuracy: 0.8311 - val_loss: 0.7437 - val_accuracy: 0.7530\n",
      "Epoch 47/50\n",
      "188/188 [==============================] - 8s 43ms/step - loss: 0.5003 - accuracy: 0.8286 - val_loss: 0.7516 - val_accuracy: 0.7470\n",
      "Epoch 48/50\n",
      "188/188 [==============================] - 8s 43ms/step - loss: 0.4897 - accuracy: 0.8265 - val_loss: 0.7254 - val_accuracy: 0.7517\n",
      "Epoch 49/50\n",
      "188/188 [==============================] - 9s 46ms/step - loss: 0.4746 - accuracy: 0.8377 - val_loss: 0.7325 - val_accuracy: 0.7537\n",
      "Epoch 50/50\n",
      "188/188 [==============================] - 9s 46ms/step - loss: 0.4582 - accuracy: 0.8370 - val_loss: 0.7620 - val_accuracy: 0.7523\n"
     ]
    }
   ],
   "source": [
    "# train model\n",
    "history = model_cnn.fit(X_train, y_train, validation_data=(X_validation, y_validation), batch_size=32, epochs=50)"
   ]
  },
  {
   "cell_type": "code",
   "execution_count": null,
   "metadata": {},
   "outputs": [],
   "source": [
    "plot_history(history)"
   ]
  },
  {
   "cell_type": "code",
   "execution_count": null,
   "metadata": {},
   "outputs": [],
   "source": [
    "test_loss, test_acc = model_cnn.evaluate(X_test, y_test, verbose=2)\n",
    "print('\\nTest accuracy:', test_acc)"
   ]
  },
  {
   "cell_type": "code",
   "execution_count": null,
   "metadata": {},
   "outputs": [],
   "source": [
    "model_cnn.save(\"Music_Genre_10_CNN\")"
   ]
  },
  {
   "cell_type": "code",
   "execution_count": null,
   "metadata": {},
   "outputs": [],
   "source": [
    "model_cnn.save(\"Music_Genre_10_CNN.h5\")\n",
    "# It can be used to reconstruct the model identically.\n"
   ]
  },
  {
   "cell_type": "code",
   "execution_count": 11,
   "metadata": {},
   "outputs": [],
   "source": [
    "reconstructed_model = keras.models.load_model(\"Music_Genre_10_CNN.h5\")"
   ]
  },
  {
   "cell_type": "code",
   "execution_count": 12,
   "metadata": {},
   "outputs": [
    {
     "data": {
      "text/plain": [
       "(130, 13, 1)"
      ]
     },
     "execution_count": 12,
     "metadata": {},
     "output_type": "execute_result"
    }
   ],
   "source": [
    "# pick a sample to predict from the test set\n",
    "X_to_predict = X_test[100]\n",
    "y_to_predict = y_test[100]\n",
    "X_to_predict.shape"
   ]
  },
  {
   "cell_type": "code",
   "execution_count": 13,
   "metadata": {},
   "outputs": [
    {
     "name": "stdout",
     "output_type": "stream",
     "text": [
      "Real Genre: 5\n"
     ]
    }
   ],
   "source": [
    "print(\"Real Genre:\", y_to_predict)"
   ]
  },
  {
   "cell_type": "code",
   "execution_count": 42,
   "metadata": {},
   "outputs": [
    {
     "data": {
      "text/plain": [
       "(1, 130, 13)"
      ]
     },
     "execution_count": 42,
     "metadata": {},
     "output_type": "execute_result"
    }
   ],
   "source": [
    " #add a dimension to input data for sample - model.predict() expects a 4d array in this case\n",
    "X_to_predict = X_to_predict[np.newaxis, ...] # array shape (1, 130, 13, 1)\n",
    "X_to_predict.shape"
   ]
  },
  {
   "cell_type": "code",
   "execution_count": 14,
   "metadata": {},
   "outputs": [
    {
     "ename": "ValueError",
     "evalue": "in user code:\n\n    c:\\users\\hp\\appdata\\local\\programs\\python\\python37\\lib\\site-packages\\tensorflow\\python\\keras\\engine\\training.py:1478 predict_function  *\n        return step_function(self, iterator)\n    c:\\users\\hp\\appdata\\local\\programs\\python\\python37\\lib\\site-packages\\tensorflow\\python\\keras\\engine\\training.py:1468 step_function  **\n        outputs = model.distribute_strategy.run(run_step, args=(data,))\n    c:\\users\\hp\\appdata\\local\\programs\\python\\python37\\lib\\site-packages\\tensorflow\\python\\distribute\\distribute_lib.py:1259 run\n        return self._extended.call_for_each_replica(fn, args=args, kwargs=kwargs)\n    c:\\users\\hp\\appdata\\local\\programs\\python\\python37\\lib\\site-packages\\tensorflow\\python\\distribute\\distribute_lib.py:2730 call_for_each_replica\n        return self._call_for_each_replica(fn, args, kwargs)\n    c:\\users\\hp\\appdata\\local\\programs\\python\\python37\\lib\\site-packages\\tensorflow\\python\\distribute\\distribute_lib.py:3417 _call_for_each_replica\n        return fn(*args, **kwargs)\n    c:\\users\\hp\\appdata\\local\\programs\\python\\python37\\lib\\site-packages\\tensorflow\\python\\keras\\engine\\training.py:1461 run_step  **\n        outputs = model.predict_step(data)\n    c:\\users\\hp\\appdata\\local\\programs\\python\\python37\\lib\\site-packages\\tensorflow\\python\\keras\\engine\\training.py:1434 predict_step\n        return self(x, training=False)\n    c:\\users\\hp\\appdata\\local\\programs\\python\\python37\\lib\\site-packages\\tensorflow\\python\\keras\\engine\\base_layer.py:998 __call__\n        input_spec.assert_input_compatibility(self.input_spec, inputs, self.name)\n    c:\\users\\hp\\appdata\\local\\programs\\python\\python37\\lib\\site-packages\\tensorflow\\python\\keras\\engine\\input_spec.py:239 assert_input_compatibility\n        str(tuple(shape)))\n\n    ValueError: Input 0 of layer sequential_7 is incompatible with the layer: : expected min_ndim=4, found ndim=3. Full shape received: (None, 13, 1)\n",
     "output_type": "error",
     "traceback": [
      "\u001b[1;31m---------------------------------------------------------------------------\u001b[0m",
      "\u001b[1;31mValueError\u001b[0m                                Traceback (most recent call last)",
      "\u001b[1;32m<ipython-input-14-910d9e0c4f06>\u001b[0m in \u001b[0;36m<module>\u001b[1;34m\u001b[0m\n\u001b[1;32m----> 1\u001b[1;33m \u001b[0mprediction\u001b[0m \u001b[1;33m=\u001b[0m \u001b[0mreconstructed_model\u001b[0m\u001b[1;33m.\u001b[0m\u001b[0mpredict\u001b[0m\u001b[1;33m(\u001b[0m\u001b[0mX_to_predict\u001b[0m\u001b[1;33m)\u001b[0m\u001b[1;33m\u001b[0m\u001b[1;33m\u001b[0m\u001b[0m\n\u001b[0m\u001b[0;32m      2\u001b[0m \u001b[1;31m# get index with max value\u001b[0m\u001b[1;33m\u001b[0m\u001b[1;33m\u001b[0m\u001b[1;33m\u001b[0m\u001b[0m\n\u001b[0;32m      3\u001b[0m \u001b[0mpredicted_index\u001b[0m \u001b[1;33m=\u001b[0m \u001b[0mnp\u001b[0m\u001b[1;33m.\u001b[0m\u001b[0margmax\u001b[0m\u001b[1;33m(\u001b[0m\u001b[0mprediction\u001b[0m\u001b[1;33m,\u001b[0m \u001b[0maxis\u001b[0m\u001b[1;33m=\u001b[0m\u001b[1;36m1\u001b[0m\u001b[1;33m)\u001b[0m\u001b[1;33m\u001b[0m\u001b[1;33m\u001b[0m\u001b[0m\n\u001b[0;32m      4\u001b[0m \u001b[1;33m\u001b[0m\u001b[0m\n\u001b[0;32m      5\u001b[0m \u001b[0mprint\u001b[0m\u001b[1;33m(\u001b[0m\u001b[1;34m\"Predicted Genre:\"\u001b[0m\u001b[1;33m,\u001b[0m \u001b[0mint\u001b[0m\u001b[1;33m(\u001b[0m\u001b[0mpredicted_index\u001b[0m\u001b[1;33m)\u001b[0m\u001b[1;33m)\u001b[0m\u001b[1;33m\u001b[0m\u001b[1;33m\u001b[0m\u001b[0m\n",
      "\u001b[1;32mc:\\users\\hp\\appdata\\local\\programs\\python\\python37\\lib\\site-packages\\tensorflow\\python\\keras\\engine\\training.py\u001b[0m in \u001b[0;36mpredict\u001b[1;34m(self, x, batch_size, verbose, steps, callbacks, max_queue_size, workers, use_multiprocessing)\u001b[0m\n\u001b[0;32m   1627\u001b[0m           \u001b[1;32mfor\u001b[0m \u001b[0mstep\u001b[0m \u001b[1;32min\u001b[0m \u001b[0mdata_handler\u001b[0m\u001b[1;33m.\u001b[0m\u001b[0msteps\u001b[0m\u001b[1;33m(\u001b[0m\u001b[1;33m)\u001b[0m\u001b[1;33m:\u001b[0m\u001b[1;33m\u001b[0m\u001b[1;33m\u001b[0m\u001b[0m\n\u001b[0;32m   1628\u001b[0m             \u001b[0mcallbacks\u001b[0m\u001b[1;33m.\u001b[0m\u001b[0mon_predict_batch_begin\u001b[0m\u001b[1;33m(\u001b[0m\u001b[0mstep\u001b[0m\u001b[1;33m)\u001b[0m\u001b[1;33m\u001b[0m\u001b[1;33m\u001b[0m\u001b[0m\n\u001b[1;32m-> 1629\u001b[1;33m             \u001b[0mtmp_batch_outputs\u001b[0m \u001b[1;33m=\u001b[0m \u001b[0mself\u001b[0m\u001b[1;33m.\u001b[0m\u001b[0mpredict_function\u001b[0m\u001b[1;33m(\u001b[0m\u001b[0miterator\u001b[0m\u001b[1;33m)\u001b[0m\u001b[1;33m\u001b[0m\u001b[1;33m\u001b[0m\u001b[0m\n\u001b[0m\u001b[0;32m   1630\u001b[0m             \u001b[1;32mif\u001b[0m \u001b[0mdata_handler\u001b[0m\u001b[1;33m.\u001b[0m\u001b[0mshould_sync\u001b[0m\u001b[1;33m:\u001b[0m\u001b[1;33m\u001b[0m\u001b[1;33m\u001b[0m\u001b[0m\n\u001b[0;32m   1631\u001b[0m               \u001b[0mcontext\u001b[0m\u001b[1;33m.\u001b[0m\u001b[0masync_wait\u001b[0m\u001b[1;33m(\u001b[0m\u001b[1;33m)\u001b[0m\u001b[1;33m\u001b[0m\u001b[1;33m\u001b[0m\u001b[0m\n",
      "\u001b[1;32mc:\\users\\hp\\appdata\\local\\programs\\python\\python37\\lib\\site-packages\\tensorflow\\python\\eager\\def_function.py\u001b[0m in \u001b[0;36m__call__\u001b[1;34m(self, *args, **kwds)\u001b[0m\n\u001b[0;32m    826\u001b[0m     \u001b[0mtracing_count\u001b[0m \u001b[1;33m=\u001b[0m \u001b[0mself\u001b[0m\u001b[1;33m.\u001b[0m\u001b[0mexperimental_get_tracing_count\u001b[0m\u001b[1;33m(\u001b[0m\u001b[1;33m)\u001b[0m\u001b[1;33m\u001b[0m\u001b[1;33m\u001b[0m\u001b[0m\n\u001b[0;32m    827\u001b[0m     \u001b[1;32mwith\u001b[0m \u001b[0mtrace\u001b[0m\u001b[1;33m.\u001b[0m\u001b[0mTrace\u001b[0m\u001b[1;33m(\u001b[0m\u001b[0mself\u001b[0m\u001b[1;33m.\u001b[0m\u001b[0m_name\u001b[0m\u001b[1;33m)\u001b[0m \u001b[1;32mas\u001b[0m \u001b[0mtm\u001b[0m\u001b[1;33m:\u001b[0m\u001b[1;33m\u001b[0m\u001b[1;33m\u001b[0m\u001b[0m\n\u001b[1;32m--> 828\u001b[1;33m       \u001b[0mresult\u001b[0m \u001b[1;33m=\u001b[0m \u001b[0mself\u001b[0m\u001b[1;33m.\u001b[0m\u001b[0m_call\u001b[0m\u001b[1;33m(\u001b[0m\u001b[1;33m*\u001b[0m\u001b[0margs\u001b[0m\u001b[1;33m,\u001b[0m \u001b[1;33m**\u001b[0m\u001b[0mkwds\u001b[0m\u001b[1;33m)\u001b[0m\u001b[1;33m\u001b[0m\u001b[1;33m\u001b[0m\u001b[0m\n\u001b[0m\u001b[0;32m    829\u001b[0m       \u001b[0mcompiler\u001b[0m \u001b[1;33m=\u001b[0m \u001b[1;34m\"xla\"\u001b[0m \u001b[1;32mif\u001b[0m \u001b[0mself\u001b[0m\u001b[1;33m.\u001b[0m\u001b[0m_experimental_compile\u001b[0m \u001b[1;32melse\u001b[0m \u001b[1;34m\"nonXla\"\u001b[0m\u001b[1;33m\u001b[0m\u001b[1;33m\u001b[0m\u001b[0m\n\u001b[0;32m    830\u001b[0m       \u001b[0mnew_tracing_count\u001b[0m \u001b[1;33m=\u001b[0m \u001b[0mself\u001b[0m\u001b[1;33m.\u001b[0m\u001b[0mexperimental_get_tracing_count\u001b[0m\u001b[1;33m(\u001b[0m\u001b[1;33m)\u001b[0m\u001b[1;33m\u001b[0m\u001b[1;33m\u001b[0m\u001b[0m\n",
      "\u001b[1;32mc:\\users\\hp\\appdata\\local\\programs\\python\\python37\\lib\\site-packages\\tensorflow\\python\\eager\\def_function.py\u001b[0m in \u001b[0;36m_call\u001b[1;34m(self, *args, **kwds)\u001b[0m\n\u001b[0;32m    869\u001b[0m       \u001b[1;31m# This is the first call of __call__, so we have to initialize.\u001b[0m\u001b[1;33m\u001b[0m\u001b[1;33m\u001b[0m\u001b[1;33m\u001b[0m\u001b[0m\n\u001b[0;32m    870\u001b[0m       \u001b[0minitializers\u001b[0m \u001b[1;33m=\u001b[0m \u001b[1;33m[\u001b[0m\u001b[1;33m]\u001b[0m\u001b[1;33m\u001b[0m\u001b[1;33m\u001b[0m\u001b[0m\n\u001b[1;32m--> 871\u001b[1;33m       \u001b[0mself\u001b[0m\u001b[1;33m.\u001b[0m\u001b[0m_initialize\u001b[0m\u001b[1;33m(\u001b[0m\u001b[0margs\u001b[0m\u001b[1;33m,\u001b[0m \u001b[0mkwds\u001b[0m\u001b[1;33m,\u001b[0m \u001b[0madd_initializers_to\u001b[0m\u001b[1;33m=\u001b[0m\u001b[0minitializers\u001b[0m\u001b[1;33m)\u001b[0m\u001b[1;33m\u001b[0m\u001b[1;33m\u001b[0m\u001b[0m\n\u001b[0m\u001b[0;32m    872\u001b[0m     \u001b[1;32mfinally\u001b[0m\u001b[1;33m:\u001b[0m\u001b[1;33m\u001b[0m\u001b[1;33m\u001b[0m\u001b[0m\n\u001b[0;32m    873\u001b[0m       \u001b[1;31m# At this point we know that the initialization is complete (or less\u001b[0m\u001b[1;33m\u001b[0m\u001b[1;33m\u001b[0m\u001b[1;33m\u001b[0m\u001b[0m\n",
      "\u001b[1;32mc:\\users\\hp\\appdata\\local\\programs\\python\\python37\\lib\\site-packages\\tensorflow\\python\\eager\\def_function.py\u001b[0m in \u001b[0;36m_initialize\u001b[1;34m(self, args, kwds, add_initializers_to)\u001b[0m\n\u001b[0;32m    724\u001b[0m     self._concrete_stateful_fn = (\n\u001b[0;32m    725\u001b[0m         self._stateful_fn._get_concrete_function_internal_garbage_collected(  # pylint: disable=protected-access\n\u001b[1;32m--> 726\u001b[1;33m             *args, **kwds))\n\u001b[0m\u001b[0;32m    727\u001b[0m \u001b[1;33m\u001b[0m\u001b[0m\n\u001b[0;32m    728\u001b[0m     \u001b[1;32mdef\u001b[0m \u001b[0minvalid_creator_scope\u001b[0m\u001b[1;33m(\u001b[0m\u001b[1;33m*\u001b[0m\u001b[0munused_args\u001b[0m\u001b[1;33m,\u001b[0m \u001b[1;33m**\u001b[0m\u001b[0munused_kwds\u001b[0m\u001b[1;33m)\u001b[0m\u001b[1;33m:\u001b[0m\u001b[1;33m\u001b[0m\u001b[1;33m\u001b[0m\u001b[0m\n",
      "\u001b[1;32mc:\\users\\hp\\appdata\\local\\programs\\python\\python37\\lib\\site-packages\\tensorflow\\python\\eager\\function.py\u001b[0m in \u001b[0;36m_get_concrete_function_internal_garbage_collected\u001b[1;34m(self, *args, **kwargs)\u001b[0m\n\u001b[0;32m   2967\u001b[0m       \u001b[0margs\u001b[0m\u001b[1;33m,\u001b[0m \u001b[0mkwargs\u001b[0m \u001b[1;33m=\u001b[0m \u001b[1;32mNone\u001b[0m\u001b[1;33m,\u001b[0m \u001b[1;32mNone\u001b[0m\u001b[1;33m\u001b[0m\u001b[1;33m\u001b[0m\u001b[0m\n\u001b[0;32m   2968\u001b[0m     \u001b[1;32mwith\u001b[0m \u001b[0mself\u001b[0m\u001b[1;33m.\u001b[0m\u001b[0m_lock\u001b[0m\u001b[1;33m:\u001b[0m\u001b[1;33m\u001b[0m\u001b[1;33m\u001b[0m\u001b[0m\n\u001b[1;32m-> 2969\u001b[1;33m       \u001b[0mgraph_function\u001b[0m\u001b[1;33m,\u001b[0m \u001b[0m_\u001b[0m \u001b[1;33m=\u001b[0m \u001b[0mself\u001b[0m\u001b[1;33m.\u001b[0m\u001b[0m_maybe_define_function\u001b[0m\u001b[1;33m(\u001b[0m\u001b[0margs\u001b[0m\u001b[1;33m,\u001b[0m \u001b[0mkwargs\u001b[0m\u001b[1;33m)\u001b[0m\u001b[1;33m\u001b[0m\u001b[1;33m\u001b[0m\u001b[0m\n\u001b[0m\u001b[0;32m   2970\u001b[0m     \u001b[1;32mreturn\u001b[0m \u001b[0mgraph_function\u001b[0m\u001b[1;33m\u001b[0m\u001b[1;33m\u001b[0m\u001b[0m\n\u001b[0;32m   2971\u001b[0m \u001b[1;33m\u001b[0m\u001b[0m\n",
      "\u001b[1;32mc:\\users\\hp\\appdata\\local\\programs\\python\\python37\\lib\\site-packages\\tensorflow\\python\\eager\\function.py\u001b[0m in \u001b[0;36m_maybe_define_function\u001b[1;34m(self, args, kwargs)\u001b[0m\n\u001b[0;32m   3359\u001b[0m \u001b[1;33m\u001b[0m\u001b[0m\n\u001b[0;32m   3360\u001b[0m           \u001b[0mself\u001b[0m\u001b[1;33m.\u001b[0m\u001b[0m_function_cache\u001b[0m\u001b[1;33m.\u001b[0m\u001b[0mmissed\u001b[0m\u001b[1;33m.\u001b[0m\u001b[0madd\u001b[0m\u001b[1;33m(\u001b[0m\u001b[0mcall_context_key\u001b[0m\u001b[1;33m)\u001b[0m\u001b[1;33m\u001b[0m\u001b[1;33m\u001b[0m\u001b[0m\n\u001b[1;32m-> 3361\u001b[1;33m           \u001b[0mgraph_function\u001b[0m \u001b[1;33m=\u001b[0m \u001b[0mself\u001b[0m\u001b[1;33m.\u001b[0m\u001b[0m_create_graph_function\u001b[0m\u001b[1;33m(\u001b[0m\u001b[0margs\u001b[0m\u001b[1;33m,\u001b[0m \u001b[0mkwargs\u001b[0m\u001b[1;33m)\u001b[0m\u001b[1;33m\u001b[0m\u001b[1;33m\u001b[0m\u001b[0m\n\u001b[0m\u001b[0;32m   3362\u001b[0m           \u001b[0mself\u001b[0m\u001b[1;33m.\u001b[0m\u001b[0m_function_cache\u001b[0m\u001b[1;33m.\u001b[0m\u001b[0mprimary\u001b[0m\u001b[1;33m[\u001b[0m\u001b[0mcache_key\u001b[0m\u001b[1;33m]\u001b[0m \u001b[1;33m=\u001b[0m \u001b[0mgraph_function\u001b[0m\u001b[1;33m\u001b[0m\u001b[1;33m\u001b[0m\u001b[0m\n\u001b[0;32m   3363\u001b[0m \u001b[1;33m\u001b[0m\u001b[0m\n",
      "\u001b[1;32mc:\\users\\hp\\appdata\\local\\programs\\python\\python37\\lib\\site-packages\\tensorflow\\python\\eager\\function.py\u001b[0m in \u001b[0;36m_create_graph_function\u001b[1;34m(self, args, kwargs, override_flat_arg_shapes)\u001b[0m\n\u001b[0;32m   3204\u001b[0m             \u001b[0marg_names\u001b[0m\u001b[1;33m=\u001b[0m\u001b[0marg_names\u001b[0m\u001b[1;33m,\u001b[0m\u001b[1;33m\u001b[0m\u001b[1;33m\u001b[0m\u001b[0m\n\u001b[0;32m   3205\u001b[0m             \u001b[0moverride_flat_arg_shapes\u001b[0m\u001b[1;33m=\u001b[0m\u001b[0moverride_flat_arg_shapes\u001b[0m\u001b[1;33m,\u001b[0m\u001b[1;33m\u001b[0m\u001b[1;33m\u001b[0m\u001b[0m\n\u001b[1;32m-> 3206\u001b[1;33m             capture_by_value=self._capture_by_value),\n\u001b[0m\u001b[0;32m   3207\u001b[0m         \u001b[0mself\u001b[0m\u001b[1;33m.\u001b[0m\u001b[0m_function_attributes\u001b[0m\u001b[1;33m,\u001b[0m\u001b[1;33m\u001b[0m\u001b[1;33m\u001b[0m\u001b[0m\n\u001b[0;32m   3208\u001b[0m         \u001b[0mfunction_spec\u001b[0m\u001b[1;33m=\u001b[0m\u001b[0mself\u001b[0m\u001b[1;33m.\u001b[0m\u001b[0mfunction_spec\u001b[0m\u001b[1;33m,\u001b[0m\u001b[1;33m\u001b[0m\u001b[1;33m\u001b[0m\u001b[0m\n",
      "\u001b[1;32mc:\\users\\hp\\appdata\\local\\programs\\python\\python37\\lib\\site-packages\\tensorflow\\python\\framework\\func_graph.py\u001b[0m in \u001b[0;36mfunc_graph_from_py_func\u001b[1;34m(name, python_func, args, kwargs, signature, func_graph, autograph, autograph_options, add_control_dependencies, arg_names, op_return_value, collections, capture_by_value, override_flat_arg_shapes)\u001b[0m\n\u001b[0;32m    988\u001b[0m         \u001b[0m_\u001b[0m\u001b[1;33m,\u001b[0m \u001b[0moriginal_func\u001b[0m \u001b[1;33m=\u001b[0m \u001b[0mtf_decorator\u001b[0m\u001b[1;33m.\u001b[0m\u001b[0munwrap\u001b[0m\u001b[1;33m(\u001b[0m\u001b[0mpython_func\u001b[0m\u001b[1;33m)\u001b[0m\u001b[1;33m\u001b[0m\u001b[1;33m\u001b[0m\u001b[0m\n\u001b[0;32m    989\u001b[0m \u001b[1;33m\u001b[0m\u001b[0m\n\u001b[1;32m--> 990\u001b[1;33m       \u001b[0mfunc_outputs\u001b[0m \u001b[1;33m=\u001b[0m \u001b[0mpython_func\u001b[0m\u001b[1;33m(\u001b[0m\u001b[1;33m*\u001b[0m\u001b[0mfunc_args\u001b[0m\u001b[1;33m,\u001b[0m \u001b[1;33m**\u001b[0m\u001b[0mfunc_kwargs\u001b[0m\u001b[1;33m)\u001b[0m\u001b[1;33m\u001b[0m\u001b[1;33m\u001b[0m\u001b[0m\n\u001b[0m\u001b[0;32m    991\u001b[0m \u001b[1;33m\u001b[0m\u001b[0m\n\u001b[0;32m    992\u001b[0m       \u001b[1;31m# invariant: `func_outputs` contains only Tensors, CompositeTensors,\u001b[0m\u001b[1;33m\u001b[0m\u001b[1;33m\u001b[0m\u001b[1;33m\u001b[0m\u001b[0m\n",
      "\u001b[1;32mc:\\users\\hp\\appdata\\local\\programs\\python\\python37\\lib\\site-packages\\tensorflow\\python\\eager\\def_function.py\u001b[0m in \u001b[0;36mwrapped_fn\u001b[1;34m(*args, **kwds)\u001b[0m\n\u001b[0;32m    632\u001b[0m             \u001b[0mxla_context\u001b[0m\u001b[1;33m.\u001b[0m\u001b[0mExit\u001b[0m\u001b[1;33m(\u001b[0m\u001b[1;33m)\u001b[0m\u001b[1;33m\u001b[0m\u001b[1;33m\u001b[0m\u001b[0m\n\u001b[0;32m    633\u001b[0m         \u001b[1;32melse\u001b[0m\u001b[1;33m:\u001b[0m\u001b[1;33m\u001b[0m\u001b[1;33m\u001b[0m\u001b[0m\n\u001b[1;32m--> 634\u001b[1;33m           \u001b[0mout\u001b[0m \u001b[1;33m=\u001b[0m \u001b[0mweak_wrapped_fn\u001b[0m\u001b[1;33m(\u001b[0m\u001b[1;33m)\u001b[0m\u001b[1;33m.\u001b[0m\u001b[0m__wrapped__\u001b[0m\u001b[1;33m(\u001b[0m\u001b[1;33m*\u001b[0m\u001b[0margs\u001b[0m\u001b[1;33m,\u001b[0m \u001b[1;33m**\u001b[0m\u001b[0mkwds\u001b[0m\u001b[1;33m)\u001b[0m\u001b[1;33m\u001b[0m\u001b[1;33m\u001b[0m\u001b[0m\n\u001b[0m\u001b[0;32m    635\u001b[0m         \u001b[1;32mreturn\u001b[0m \u001b[0mout\u001b[0m\u001b[1;33m\u001b[0m\u001b[1;33m\u001b[0m\u001b[0m\n\u001b[0;32m    636\u001b[0m \u001b[1;33m\u001b[0m\u001b[0m\n",
      "\u001b[1;32mc:\\users\\hp\\appdata\\local\\programs\\python\\python37\\lib\\site-packages\\tensorflow\\python\\framework\\func_graph.py\u001b[0m in \u001b[0;36mwrapper\u001b[1;34m(*args, **kwargs)\u001b[0m\n\u001b[0;32m    975\u001b[0m           \u001b[1;32mexcept\u001b[0m \u001b[0mException\u001b[0m \u001b[1;32mas\u001b[0m \u001b[0me\u001b[0m\u001b[1;33m:\u001b[0m  \u001b[1;31m# pylint:disable=broad-except\u001b[0m\u001b[1;33m\u001b[0m\u001b[1;33m\u001b[0m\u001b[0m\n\u001b[0;32m    976\u001b[0m             \u001b[1;32mif\u001b[0m \u001b[0mhasattr\u001b[0m\u001b[1;33m(\u001b[0m\u001b[0me\u001b[0m\u001b[1;33m,\u001b[0m \u001b[1;34m\"ag_error_metadata\"\u001b[0m\u001b[1;33m)\u001b[0m\u001b[1;33m:\u001b[0m\u001b[1;33m\u001b[0m\u001b[1;33m\u001b[0m\u001b[0m\n\u001b[1;32m--> 977\u001b[1;33m               \u001b[1;32mraise\u001b[0m \u001b[0me\u001b[0m\u001b[1;33m.\u001b[0m\u001b[0mag_error_metadata\u001b[0m\u001b[1;33m.\u001b[0m\u001b[0mto_exception\u001b[0m\u001b[1;33m(\u001b[0m\u001b[0me\u001b[0m\u001b[1;33m)\u001b[0m\u001b[1;33m\u001b[0m\u001b[1;33m\u001b[0m\u001b[0m\n\u001b[0m\u001b[0;32m    978\u001b[0m             \u001b[1;32melse\u001b[0m\u001b[1;33m:\u001b[0m\u001b[1;33m\u001b[0m\u001b[1;33m\u001b[0m\u001b[0m\n\u001b[0;32m    979\u001b[0m               \u001b[1;32mraise\u001b[0m\u001b[1;33m\u001b[0m\u001b[1;33m\u001b[0m\u001b[0m\n",
      "\u001b[1;31mValueError\u001b[0m: in user code:\n\n    c:\\users\\hp\\appdata\\local\\programs\\python\\python37\\lib\\site-packages\\tensorflow\\python\\keras\\engine\\training.py:1478 predict_function  *\n        return step_function(self, iterator)\n    c:\\users\\hp\\appdata\\local\\programs\\python\\python37\\lib\\site-packages\\tensorflow\\python\\keras\\engine\\training.py:1468 step_function  **\n        outputs = model.distribute_strategy.run(run_step, args=(data,))\n    c:\\users\\hp\\appdata\\local\\programs\\python\\python37\\lib\\site-packages\\tensorflow\\python\\distribute\\distribute_lib.py:1259 run\n        return self._extended.call_for_each_replica(fn, args=args, kwargs=kwargs)\n    c:\\users\\hp\\appdata\\local\\programs\\python\\python37\\lib\\site-packages\\tensorflow\\python\\distribute\\distribute_lib.py:2730 call_for_each_replica\n        return self._call_for_each_replica(fn, args, kwargs)\n    c:\\users\\hp\\appdata\\local\\programs\\python\\python37\\lib\\site-packages\\tensorflow\\python\\distribute\\distribute_lib.py:3417 _call_for_each_replica\n        return fn(*args, **kwargs)\n    c:\\users\\hp\\appdata\\local\\programs\\python\\python37\\lib\\site-packages\\tensorflow\\python\\keras\\engine\\training.py:1461 run_step  **\n        outputs = model.predict_step(data)\n    c:\\users\\hp\\appdata\\local\\programs\\python\\python37\\lib\\site-packages\\tensorflow\\python\\keras\\engine\\training.py:1434 predict_step\n        return self(x, training=False)\n    c:\\users\\hp\\appdata\\local\\programs\\python\\python37\\lib\\site-packages\\tensorflow\\python\\keras\\engine\\base_layer.py:998 __call__\n        input_spec.assert_input_compatibility(self.input_spec, inputs, self.name)\n    c:\\users\\hp\\appdata\\local\\programs\\python\\python37\\lib\\site-packages\\tensorflow\\python\\keras\\engine\\input_spec.py:239 assert_input_compatibility\n        str(tuple(shape)))\n\n    ValueError: Input 0 of layer sequential_7 is incompatible with the layer: : expected min_ndim=4, found ndim=3. Full shape received: (None, 13, 1)\n"
     ]
    }
   ],
   "source": [
    "prediction = reconstructed_model.predict(X_to_predict)\n",
    "# get index with max value\n",
    "predicted_index = np.argmax(prediction, axis=1)\n",
    "\n",
    "print(\"Predicted Genre:\", int(predicted_index))"
   ]
  },
  {
   "cell_type": "code",
   "execution_count": 15,
   "metadata": {},
   "outputs": [
    {
     "name": "stdout",
     "output_type": "stream",
     "text": [
      "Real Genre: 7\n",
      "Predicted Genre: 7\n"
     ]
    }
   ],
   "source": [
    "# pick a sample to predict from the test set\n",
    "X_to_predict = X_test[50]\n",
    "y_to_predict = y_test[50]\n",
    "\n",
    "print(\"Real Genre:\", y_to_predict)\n",
    "\n",
    "X_to_predict = X_to_predict[np.newaxis, ...]\n",
    "\n",
    "prediction = reconstructed_model.predict(X_to_predict)\n",
    "\n",
    "# get index with max value\n",
    "predicted_index = np.argmax(prediction, axis=1)\n",
    "\n",
    "print(\"Predicted Genre:\", int(predicted_index))"
   ]
  },
  {
   "cell_type": "code",
   "execution_count": 16,
   "metadata": {},
   "outputs": [
    {
     "data": {
      "text/plain": [
       "2497"
      ]
     },
     "execution_count": 16,
     "metadata": {},
     "output_type": "execute_result"
    }
   ],
   "source": [
    "len(X_test)"
   ]
  },
  {
   "cell_type": "code",
   "execution_count": 18,
   "metadata": {},
   "outputs": [
    {
     "name": "stdout",
     "output_type": "stream",
     "text": [
      "\n",
      "Real Genre: 5\n",
      "Predicted Genre: 5\n",
      "\n",
      "Real Genre: 4\n",
      "Predicted Genre: 4\n",
      "\n",
      "Real Genre: 5\n",
      "Predicted Genre: 5\n",
      "\n",
      "Real Genre: 0\n",
      "Predicted Genre: 0\n",
      "\n",
      "Real Genre: 9\n",
      "Predicted Genre: 9\n",
      "\n",
      "Real Genre: 8\n",
      "Predicted Genre: 8\n",
      "\n",
      "Real Genre: 8\n",
      "Predicted Genre: 8\n",
      "\n",
      "Real Genre: 6\n",
      "Predicted Genre: 6\n",
      "\n",
      "Real Genre: 8\n",
      "Predicted Genre: 8\n",
      "\n",
      "Real Genre: 7\n",
      "Predicted Genre: 7\n"
     ]
    }
   ],
   "source": [
    "for n in range(10):\n",
    "\n",
    "  i = random.randint(0,len(X_test))\n",
    "  # pick a sample to predict from the test set\n",
    "  X_to_predict = X_test[i]\n",
    "  y_to_predict = y_test[i]\n",
    "\n",
    "  print(\"\\nReal Genre:\", y_to_predict)\n",
    "\n",
    "  X_to_predict = X_to_predict[np.newaxis, ...]\n",
    "\n",
    "  prediction = reconstructed_model.predict(X_to_predict)\n",
    "\n",
    "  # get index with max value\n",
    "  predicted_index = np.argmax(prediction, axis=1)\n",
    "\n",
    "  print(\"Predicted Genre:\", int(predicted_index))"
   ]
  },
  {
   "cell_type": "code",
   "execution_count": null,
   "metadata": {},
   "outputs": [],
   "source": [
    "test=[]\n",
    "predictions=[]\n",
    "ar=['blues',  'classical', 'country',  'disco',  'hiphop', 'jazz',  'metal',  'pop',  'reggae',  'rock']\n",
    "dict={0:'blues',1:'classical',2:'country',3:'disco',4: 'hiphop',5:'jazz',6:'metal',7:'pop',8:'reggae',9:'rock'}\n",
    "\n",
    "for i in range(len(X_test)):\n",
    "\n",
    "  #i = random.randint(0,len(X_test))\n",
    "  # pick a sample to predict from the test set\n",
    "  X_to_predict = X_test[i]\n",
    "  y_to_predict = y_test[i]\n",
    "\n",
    "  predictions.append(dict[y_to_predict])\n",
    "\n",
    "  X_to_predict = X_to_predict[np.newaxis, ...]\n",
    "\n",
    "  prediction = reconstructed_model.predict(X_to_predict)\n",
    "\n",
    "  # get index with max value\n",
    "  predicted_index = np.argmax(prediction, axis=1)\n",
    "  \n",
    "  test.append(dict[int(predicted_index)])\n",
    "  #print(\"Predicted Genre:\", int(predicted_index))\n",
    "from sklearn.metrics import classification_report\n",
    "from sklearn.metrics import confusion_matrix\n",
    "print('CONFUSION MATRIX')\n",
    "\n",
    "\n",
    "#print(test)\n",
    "#print(predictions)\n",
    "\n",
    "print(classification_report(test, predictions))\n",
    "conf_matrix = confusion_matrix(y_true=test, y_pred=predictions,labels=ar)\n",
    "#\n",
    "# Print the confusion matrix using Matplotlib\n",
    "#\n",
    "fig, ax = plt.subplots(figsize=(7.5, 7.5))\n",
    "im = ax.imshow(conf_matrix)\n",
    "ax.set_xticklabels(['blues',  'classical', 'country',  'disco',  'hiphop', 'jazz',  'metal',  'pop',  'reggae',  'rock'])\n",
    "ax.set_yticklabels(['blues',  'classical', 'country',  'disco',  'hiphop', 'jazz',  'metal',  'pop',  'reggae',  'rock'])\n",
    "plt.setp(ax.get_xticklabels(), rotation=45, ha=\"right\"\n",
    "        )\n",
    "for i in range(conf_matrix.shape[0]):\n",
    "    for j in range(conf_matrix.shape[1]):\n",
    "        ax.text(x=j, y=i,s=conf_matrix[i, j],va='center', ha='center',color=\"w\")\n",
    " \n",
    "plt.xlabel('Predictions', fontsize=18)\n",
    "plt.ylabel('Actuals', fontsize=18)\n",
    "plt.title('Confusion Matrix', fontsize=18)\n",
    "fig.tight_layout()\n",
    "plt.show()"
   ]
  },
  {
   "cell_type": "code",
   "execution_count": null,
   "metadata": {},
   "outputs": [],
   "source": []
  },
  {
   "cell_type": "code",
   "execution_count": null,
   "metadata": {},
   "outputs": [],
   "source": []
  }
 ],
 "metadata": {
  "kernelspec": {
   "display_name": "Python 3",
   "language": "python",
   "name": "python3"
  },
  "language_info": {
   "codemirror_mode": {
    "name": "ipython",
    "version": 3
   },
   "file_extension": ".py",
   "mimetype": "text/x-python",
   "name": "python",
   "nbconvert_exporter": "python",
   "pygments_lexer": "ipython3",
   "version": "3.7.8"
  }
 },
 "nbformat": 4,
 "nbformat_minor": 2
}
