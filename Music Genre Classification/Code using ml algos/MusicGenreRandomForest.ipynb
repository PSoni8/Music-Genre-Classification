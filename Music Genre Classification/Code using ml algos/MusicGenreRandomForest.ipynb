{
 "cells": [
  {
   "cell_type": "code",
   "execution_count": 3,
   "metadata": {},
   "outputs": [
    {
     "name": "stdout",
     "output_type": "stream",
     "text": [
      "Requirement already satisfied: sklearn in c:\\users\\hp\\appdata\\local\\programs\\python\\python37\\lib\\site-packages (0.0)\n",
      "Requirement already satisfied: scikit-learn in c:\\users\\hp\\appdata\\local\\programs\\python\\python37\\lib\\site-packages (from sklearn) (0.24.2)\n",
      "Requirement already satisfied: threadpoolctl>=2.0.0 in c:\\users\\hp\\appdata\\local\\programs\\python\\python37\\lib\\site-packages (from scikit-learn->sklearn) (2.1.0)\n",
      "Requirement already satisfied: numpy>=1.13.3 in c:\\users\\hp\\appdata\\local\\programs\\python\\python37\\lib\\site-packages (from scikit-learn->sklearn) (1.19.5)\n",
      "Requirement already satisfied: joblib>=0.11 in c:\\users\\hp\\appdata\\local\\programs\\python\\python37\\lib\\site-packages (from scikit-learn->sklearn) (0.14.1)\n",
      "Requirement already satisfied: scipy>=0.19.1 in c:\\users\\hp\\appdata\\local\\programs\\python\\python37\\lib\\site-packages (from scikit-learn->sklearn) (1.6.3)\n",
      "Note: you may need to restart the kernel to use updated packages.\n"
     ]
    },
    {
     "name": "stderr",
     "output_type": "stream",
     "text": [
      "WARNING: You are using pip version 21.1.2; however, version 22.0.4 is available.\n",
      "You should consider upgrading via the 'c:\\users\\hp\\appdata\\local\\programs\\python\\python37\\python.exe -m pip install --upgrade pip' command.\n"
     ]
    }
   ],
   "source": [
    "pip install sklearn"
   ]
  },
  {
   "cell_type": "code",
   "execution_count": 7,
   "metadata": {},
   "outputs": [],
   "source": [
    "\n",
    "import pandas as pd\n",
    "import os\n",
    "import json\n",
    "from scipy.io import wavfile\n",
    "import glob\n",
    "import collections\n",
    "import matplotlib.pyplot as plt\n",
    "from python_speech_features import mfcc\n",
    "import csv\n",
    "import os\n",
    "import wave\n",
    "from scipy.io.wavfile import read\n",
    "from sklearn import preprocessing as pp\n",
    "import numpy as np\n",
    "import librosa\n",
    "import librosa.display\n",
    "import sklearn\n",
    "import sklearn.ensemble\n",
    "from sklearn.metrics import accuracy_score\n",
    "from sklearn.model_selection import train_test_split\n",
    "from sklearn.neighbors import KNeighborsClassifier\n",
    "from xgboost import XGBClassifier\n",
    "from sklearn import decomposition \n",
    "#from sklearn.grid_search import GridSearchCV\n",
    "from sklearn.preprocessing import StandardScaler\n",
    "from sklearn.metrics import confusion_matrix\n",
    "from sklearn.metrics import classification_report\n",
    "#from sklearn import cross_validation\n",
    "from sklearn.neural_network import MLPClassifier\n",
    "import pickle\n",
    "import random"
   ]
  },
  {
   "cell_type": "code",
   "execution_count": 8,
   "metadata": {},
   "outputs": [
    {
     "name": "stdout",
     "output_type": "stream",
     "text": [
      "(647, 3)\n",
      "3\n"
     ]
    },
    {
     "name": "stderr",
     "output_type": "stream",
     "text": [
      "c:\\users\\hp\\appdata\\local\\programs\\python\\python37\\lib\\site-packages\\numpy\\core\\_asarray.py:83: VisibleDeprecationWarning: Creating an ndarray from ragged nested sequences (which is a list-or-tuple of lists-or-tuples-or ndarrays with different lengths or shapes) is deprecated. If you meant to do this, you must specify 'dtype=object' when creating the ndarray\n",
      "  return array(a, dtype, copy=False, order=order)\n"
     ]
    }
   ],
   "source": [
    "dataset = []\n",
    "\n",
    "def loadDataset(filename, split, trSet, teSet):\n",
    "    with open('my1.dat', 'rb') as f:\n",
    "        while True:\n",
    "            try:\n",
    "                dataset.append(pickle.load(f))\n",
    "            except EOFError:\n",
    "                f.close()\n",
    "                break\n",
    "    for x in range(len(dataset)):\n",
    "        if random.random() < split:\n",
    "            trSet.append(dataset[x])\n",
    "        else:\n",
    "            teSet.append(dataset[x])\n",
    "trainingSet = []\n",
    "testSet = []\n",
    "loadDataset('my1.dat', 0.66, trainingSet, testSet)\n",
    "print(np.shape(trainingSet))\n",
    "print(testSet[100][2])"
   ]
  },
  {
   "cell_type": "code",
   "execution_count": 30,
   "metadata": {},
   "outputs": [],
   "source": [
    "from itertools import chain"
   ]
  },
  {
   "cell_type": "code",
   "execution_count": null,
   "metadata": {},
   "outputs": [],
   "source": [
    "sc = StandardScaler()\n",
    "print(sc)\n",
    "#dataset1 = sc.fit_transform(dataset[:, 0:40])\n",
    "dataset1 = dataset[:, 0:40]\n",
    "print(dataset1.shape)\n",
    "print(dataset1[3].mean())\n",
    "print(dataset1[2].shape)\n",
    "print(dataset1[2])"
   ]
  },
  {
   "cell_type": "code",
   "execution_count": 37,
   "metadata": {},
   "outputs": [
    {
     "name": "stdout",
     "output_type": "stream",
     "text": [
      "646\n",
      "646\n"
     ]
    },
    {
     "name": "stderr",
     "output_type": "stream",
     "text": [
      "c:\\users\\hp\\appdata\\local\\programs\\python\\python37\\lib\\site-packages\\numpy\\core\\_asarray.py:83: VisibleDeprecationWarning: Creating an ndarray from ragged nested sequences (which is a list-or-tuple of lists-or-tuples-or ndarrays with different lengths or shapes) is deprecated. If you meant to do this, you must specify 'dtype=object' when creating the ndarray\n",
      "  return array(a, dtype, copy=False, order=order)\n"
     ]
    }
   ],
   "source": [
    "train_X=[];\n",
    "train_y=[];\n",
    "test_X=[];\n",
    "test_y=[];\n",
    "\n",
    "\n",
    "for i in range (np.shape(trainingSet)[0]-1):\n",
    "    train_X.append(trainingSet[i][0:1])\n",
    "    train_y.append(trainingSet[i][2])\n",
    "#print(np.shape(trainingSet)[0][0])    \n",
    "for i in range (np.shape(testSet)[0]):\n",
    "    test_X.append(testSet[i][0:1])\n",
    "    test_y.append(testSet[i][2])   \n",
    "train_x=[];\n",
    "test_x=[];\n",
    "\n",
    "for i in train_X:  \n",
    "    train_x.append(np.asarray(i))\n",
    "for i in test_X:  \n",
    "    test_x.append(np.asarray(i))    \n",
    "print(len(train_x))\n",
    "x=[];y=[];\n",
    "for i in range (len(train_x)):\n",
    "    x.append(list(chain.from_iterable(train_x[i])))\n",
    "for i in range (len(test_x)):\n",
    "    y.append(list(chain.from_iterable(test_x[i])))    \n",
    "\n",
    "print(len(train_y))\n",
    "\n",
    "    "
   ]
  },
  {
   "cell_type": "code",
   "execution_count": 39,
   "metadata": {},
   "outputs": [
    {
     "name": "stdout",
     "output_type": "stream",
     "text": [
      "Accuracy :  47.72727272727273\n"
     ]
    }
   ],
   "source": [
    "cls = sklearn.ensemble.RandomForestClassifier(n_estimators = 10 , criterion = 'entropy' , min_samples_split = 8)\n",
    "#print(train_x)\n",
    "#print(train_y.shape)\n",
    "#for i in range(len(train_x)):\n",
    "models = []\n",
    "accuracy = []\n",
    "cls.fit(x , train_y)\n",
    "Y = cls.predict(y)\n",
    "models.append('random-forest')\n",
    "accuracy.append(accuracy_score(test_y , Y)*100)\n",
    "print('Accuracy : ', accuracy_score(test_y , Y)*100)"
   ]
  },
  {
   "cell_type": "code",
   "execution_count": 40,
   "metadata": {},
   "outputs": [],
   "source": [
    "random_forest_file_name = 'random_forest1.pkl'\n",
    "random_forest_model_pkl = open(random_forest_file_name , 'wb')\n",
    "pickle.dump(cls ,random_forest_model_pkl)\n",
    "random_forest_model_pkl.close()"
   ]
  },
  {
   "cell_type": "code",
   "execution_count": 41,
   "metadata": {},
   "outputs": [
    {
     "name": "stdout",
     "output_type": "stream",
     "text": [
      "CONFUSION MATRIX\n"
     ]
    },
    {
     "data": {
      "text/plain": [
       "array([[21,  0,  2,  1,  0,  1,  6,  0,  0,  3],\n",
       "       [ 1, 27,  3,  0,  0,  1,  0,  0,  0,  1],\n",
       "       [ 5,  1, 15,  1,  4,  5,  0,  3,  2,  5],\n",
       "       [ 3,  0,  1, 11,  2,  2,  3,  6,  0,  8],\n",
       "       [ 0,  0,  0,  4, 10,  2,  5,  6, 10,  3],\n",
       "       [ 2,  6,  5,  0,  2, 15,  0,  0,  4,  1],\n",
       "       [ 6,  0,  0,  0,  2,  2, 19,  0,  0,  6],\n",
       "       [ 0,  0,  0,  2,  1,  1,  0, 23,  1,  0],\n",
       "       [ 1,  0,  2,  2,  4,  5,  1,  4, 19,  1],\n",
       "       [ 6,  1,  2,  6,  1,  2,  2,  2,  1,  8]], dtype=int64)"
      ]
     },
     "execution_count": 41,
     "metadata": {},
     "output_type": "execute_result"
    }
   ],
   "source": [
    "print('CONFUSION MATRIX')\n",
    "confusion_matrix(test_y, Y)"
   ]
  },
  {
   "cell_type": "code",
   "execution_count": 45,
   "metadata": {},
   "outputs": [
    {
     "name": "stdout",
     "output_type": "stream",
     "text": [
      "CLASSIFICATION REPORT\n",
      "              precision    recall  f1-score   support\n",
      "\n",
      "           1       0.47      0.62      0.53        34\n",
      "           2       0.77      0.82      0.79        33\n",
      "           3       0.50      0.37      0.42        41\n",
      "           4       0.41      0.31      0.35        36\n",
      "           5       0.38      0.25      0.30        40\n",
      "           6       0.42      0.43      0.42        35\n",
      "           7       0.53      0.54      0.54        35\n",
      "           8       0.52      0.82      0.64        28\n",
      "           9       0.51      0.49      0.50        39\n",
      "          10       0.22      0.26      0.24        31\n",
      "\n",
      "    accuracy                           0.48       352\n",
      "   macro avg       0.47      0.49      0.47       352\n",
      "weighted avg       0.47      0.48      0.47       352\n",
      "\n"
     ]
    },
    {
     "data": {
      "image/png": "[encoded data removed]",
      "text/plain": [
       "<Figure size 540x540 with 1 Axes>"
      ]
     },
     "metadata": {
      "needs_background": "light"
     },
     "output_type": "display_data"
    }
   ],
   "source": [
    "print(\"CLASSIFICATION REPORT\")\n",
    "print(classification_report(test_y, Y))\n",
    "conf_matrix = confusion_matrix(y_true=test_y, y_pred=Y)\n",
    "#\n",
    "# Print the confusion matrix using Matplotlib\n",
    "#\n",
    "fig, ax = plt.subplots(figsize=(7.5, 7.5))\n",
    "ax.matshow(conf_matrix, cmap=plt.cm.Blues, alpha=0.2)\n",
    "for i in range(conf_matrix.shape[0]):\n",
    "    for j in range(conf_matrix.shape[1]):\n",
    "        ax.text(x=j, y=i,s=conf_matrix[i, j], va='center', ha='center', size='xx-large')\n",
    " \n",
    "plt.xlabel('Predictions', fontsize=18)\n",
    "plt.ylabel('Actuals', fontsize=18)\n",
    "plt.title('Confusion Matrix', fontsize=18)\n",
    "plt.show()\n"
   ]
  },
  {
   "cell_type": "code",
   "execution_count": null,
   "metadata": {},
   "outputs": [],
   "source": []
  }
 ],
 "metadata": {
  "kernelspec": {
   "display_name": "Python 3",
   "language": "python",
   "name": "python3"
  },
  "language_info": {
   "codemirror_mode": {
    "name": "ipython",
    "version": 3
   },
   "file_extension": ".py",
   "mimetype": "text/x-python",
   "name": "python",
   "nbconvert_exporter": "python",
   "pygments_lexer": "ipython3",
   "version": "3.7.8"
  }
 },
 "nbformat": 4,
 "nbformat_minor": 2
}
